{
  "nbformat": 4,
  "nbformat_minor": 0,
  "metadata": {
    "colab": {
      "provenance": [],
      "authorship_tag": "ABX9TyP5kkO9kcAiZH8hR27vgxDg",
      "include_colab_link": true
    },
    "kernelspec": {
      "name": "python3",
      "display_name": "Python 3"
    },
    "language_info": {
      "name": "python"
    }
  },
  "cells": [
    {
      "cell_type": "markdown",
      "metadata": {
        "id": "view-in-github",
        "colab_type": "text"
      },
      "source": [
        "<a href=\"https://colab.research.google.com/github/gustavoslsj1/trabalho-i.a/blob/main/Untitled3.ipynb\" target=\"_parent\"><img src=\"https://colab.research.google.com/assets/colab-badge.svg\" alt=\"Open In Colab\"/></a>"
      ]
    },
    {
      "cell_type": "code",
      "execution_count": null,
      "metadata": {
        "id": "aBhGvBNKXi_y",
        "collapsed": true
      },
      "outputs": [],
      "source": [
        "import numpy as np\n",
        "from sklearn.model_selection import train_test_split\n",
        "import matplotlib.pyplot as plt\n",
        "import pandas as pd\n",
        "import seaborn as sns\n",
        "\n",
        "dados = pd.read_csv('DadosHistoricos.csv',encoding='latin-1')\n",
        "\n",
        "dados\n"
      ]
    },
    {
      "cell_type": "code",
      "source": [
        "dados.head()"
      ],
      "metadata": {
        "collapsed": true,
        "id": "BoadtCmJ-Whr"
      },
      "execution_count": null,
      "outputs": []
    },
    {
      "cell_type": "code",
      "source": [
        "dados.info()"
      ],
      "metadata": {
        "collapsed": true,
        "id": "cdw1sAIe-o7g"
      },
      "execution_count": null,
      "outputs": []
    },
    {
      "cell_type": "code",
      "source": [
        "Eixo_x =dados.iloc[:,0].values\n",
        "Eixo_y =dados.iloc[:,1].values"
      ],
      "metadata": {
        "id": "lC7pKar2-7gT"
      },
      "execution_count": 6,
      "outputs": []
    },
    {
      "cell_type": "code",
      "source": [
        "Eixo_x"
      ],
      "metadata": {
        "collapsed": true,
        "id": "h3wa-TX7_BX1"
      },
      "execution_count": null,
      "outputs": []
    },
    {
      "cell_type": "code",
      "source": [
        "Eixo_y"
      ],
      "metadata": {
        "id": "wI8UwdSgKbWl"
      },
      "execution_count": null,
      "outputs": []
    },
    {
      "cell_type": "code",
      "source": [
        "plt.figure(figsize=(10,5))\n",
        "plt.scatter(Eixo_x,Eixo_y);\n",
        "plt.title('Gráfico de dispersão')\n",
        "plt.xlabel('x')\n",
        "plt.ylabel('y')"
      ],
      "metadata": {
        "id": "gTrqz8dP_ulA"
      },
      "execution_count": null,
      "outputs": []
    },
    {
      "cell_type": "code",
      "source": [
        "Eixo_x = np.array(Eixo_x).astype(float)\n",
        "Eixo_y = np.array(Eixo_y).astype(float)"
      ],
      "metadata": {
        "id": "O8AlMlgDKMEH"
      },
      "execution_count": 9,
      "outputs": []
    },
    {
      "cell_type": "code",
      "source": [
        "\n",
        "\n",
        "Correlacao =np.corrcoef(Eixo_x,Eixo_y)\n",
        "Correlacao"
      ],
      "metadata": {
        "id": "HCBDJry2E4VL"
      },
      "execution_count": null,
      "outputs": []
    },
    {
      "cell_type": "code",
      "source": [
        "Eixo_x = Eixo_x.reshape(-1,1)\n",
        "Eixo_y = Eixo_y.reshape(-1,1)\n"
      ],
      "metadata": {
        "id": "FHYNS31jCn8E"
      },
      "execution_count": 11,
      "outputs": []
    },
    {
      "cell_type": "code",
      "source": [
        "from sklearn.model_selection import train_test_split\n",
        "X_train, X_test, y_train, y_test = train_test_split(Eixo_x, Eixo_y, test_size=0.2,)"
      ],
      "metadata": {
        "id": "h0ofuXMrC6tB"
      },
      "execution_count": 38,
      "outputs": []
    },
    {
      "cell_type": "code",
      "source": [
        "print(len(X_train))\n",
        "print(len(X_test))"
      ],
      "metadata": {
        "id": "zmyU-RyyDeQK"
      },
      "execution_count": null,
      "outputs": []
    },
    {
      "cell_type": "code",
      "source": [
        "from sklearn.linear_model import LinearRegression\n",
        "regressor = LinearRegression()\n",
        "regressor.fit(X_train, y_train)"
      ],
      "metadata": {
        "id": "WgDRqxBYD4ub"
      },
      "execution_count": null,
      "outputs": []
    },
    {
      "cell_type": "code",
      "source": [
        "regressor.score(X_train, y_train)"
      ],
      "metadata": {
        "id": "KixzHjM7FUFf"
      },
      "execution_count": null,
      "outputs": []
    },
    {
      "cell_type": "code",
      "source": [
        "plt.figure(figsize=(10,5))\n",
        "plt.scatter(X_train, y_train, color = 'red')\n",
        "plt.plot(X_test, regressor.predict(X_test), color = 'blue')"
      ],
      "metadata": {
        "id": "ILxUvJqKF-YN"
      },
      "execution_count": null,
      "outputs": []
    },
    {
      "cell_type": "code",
      "source": [
        "previsoes = regressor.predict(X_test)\n",
        "from sklearn import metrics\n",
        "\n",
        "print('RMSE', np.sqrt( metrics.mean_squared_error( y_test, previsoes)))"
      ],
      "metadata": {
        "id": "1hdJgI7yEcWO"
      },
      "execution_count": null,
      "outputs": []
    },
    {
      "cell_type": "code",
      "source": [
        "print( regressor.predict([[22]]))"
      ],
      "metadata": {
        "id": "H7pBiLd2G6d6"
      },
      "execution_count": null,
      "outputs": []
    }
  ]
}