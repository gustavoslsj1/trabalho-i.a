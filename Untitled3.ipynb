{
  "nbformat": 4,
  "nbformat_minor": 0,
  "metadata": {
    "colab": {
      "provenance": [],
      "authorship_tag": "ABX9TyNyQgNLBUpbCuH6aQXuq0rQ",
      "include_colab_link": true
    },
    "kernelspec": {
      "name": "python3",
      "display_name": "Python 3"
    },
    "language_info": {
      "name": "python"
    }
  },
  "cells": [
    {
      "cell_type": "markdown",
      "metadata": {
        "id": "view-in-github",
        "colab_type": "text"
      },
      "source": [
        "<a href=\"https://colab.research.google.com/github/gustavoslsj1/trabalho-i.a/blob/main/Untitled3.ipynb\" target=\"_parent\"><img src=\"https://colab.research.google.com/assets/colab-badge.svg\" alt=\"Open In Colab\"/></a>"
      ]
    },
    {
      "cell_type": "code",
      "execution_count": 191,
      "metadata": {
        "id": "aBhGvBNKXi_y",
        "collapsed": true
      },
      "outputs": [],
      "source": [
        "import numpy as np\n",
        "from sklearn.model_selection import train_test_split\n",
        "import matplotlib.pyplot as plt\n",
        "import pandas as pd\n",
        "import seaborn as sns\n",
        "import yfinance as yf\n"
      ]
    },
    {
      "cell_type": "code",
      "source": [
        "def compare_mse(mse_lin_reg, mse_nn ):\n",
        "    print(f'MSE Regressão Linear: {mse_lin_reg}')\n",
        "    print(f'MSE Rede Neural: {mse_nn}')\n",
        "\n",
        "    if mse_lin_reg < mse_nn:\n",
        "        print(\"A Regressão Linear tem um desempenho melhor com base no MSE.\")\n",
        "    elif mse_lin_reg > mse_nn:\n",
        "        print(\"A Rede Neural tem um desempenho melhor com base no MSE.\")\n",
        "    else:\n",
        "        print(\"Ambos os modelos têm o mesmo MSE.\")"
      ],
      "metadata": {
        "id": "pYC4Ax3GjKlW"
      },
      "execution_count": 192,
      "outputs": []
    },
    {
      "cell_type": "code",
      "source": [
        "tickerSymbol = 'TAEE11.SA'\n",
        "#tickerData = yf.Ticker(tickerSymbol)\n",
        "#tickerDf=tickerData.history(period = '1d',\n",
        " #                           interval='1m')\n",
        "tickerDf = yf.download(tickerSymbol ,period='3mo' , interval='1d')"
      ],
      "metadata": {
        "colab": {
          "base_uri": "https://localhost:8080/"
        },
        "collapsed": true,
        "id": "BoadtCmJ-Whr",
        "outputId": "aa4f8562-3581-4244-8ecb-0b066a522fef"
      },
      "execution_count": 154,
      "outputs": [
        {
          "output_type": "stream",
          "name": "stderr",
          "text": [
            "\r[*********************100%%**********************]  1 of 1 completed\n"
          ]
        }
      ]
    },
    {
      "cell_type": "code",
      "source": [
        "tickerDf"
      ],
      "metadata": {
        "colab": {
          "base_uri": "https://localhost:8080/",
          "height": 455
        },
        "id": "5kRaWgixaoCD",
        "outputId": "9f750a35-17c8-4c69-bcc5-4ce3d7dcb078"
      },
      "execution_count": 155,
      "outputs": [
        {
          "output_type": "execute_result",
          "data": {
            "text/plain": [
              "                 Open       High        Low      Close  Adj Close   Volume\n",
              "Date                                                                      \n",
              "2024-03-28  36.040001  36.470001  35.910000  36.310001  34.761730  2279800\n",
              "2024-04-01  36.310001  36.590000  36.110001  36.340000  34.790447  2070400\n",
              "2024-04-02  36.340000  36.400002  36.009998  36.150002  34.608551  1773800\n",
              "2024-04-03  36.139999  36.490002  36.049999  36.419998  34.867035  1464500\n",
              "2024-04-04  36.419998  36.689999  36.320000  36.369999  34.819168  1308800\n",
              "...               ...        ...        ...        ...        ...      ...\n",
              "2024-06-24  33.680000  33.939999  33.570000  33.840000  33.840000  1250600\n",
              "2024-06-25  33.840000  33.930000  33.720001  33.860001  33.860001   782900\n",
              "2024-06-26  33.910000  33.990002  33.660000  33.970001  33.970001  1149000\n",
              "2024-06-27  33.759998  34.200001  33.759998  34.160000  34.160000  1200000\n",
              "2024-06-28  34.169998  34.430000  34.099998  34.230000  34.230000  1242700\n",
              "\n",
              "[64 rows x 6 columns]"
            ],
            "text/html": [
              "\n",
              "  <div id=\"df-36b659ec-cce9-4a6a-a1c6-8acf07d24f15\" class=\"colab-df-container\">\n",
              "    <div>\n",
              "<style scoped>\n",
              "    .dataframe tbody tr th:only-of-type {\n",
              "        vertical-align: middle;\n",
              "    }\n",
              "\n",
              "    .dataframe tbody tr th {\n",
              "        vertical-align: top;\n",
              "    }\n",
              "\n",
              "    .dataframe thead th {\n",
              "        text-align: right;\n",
              "    }\n",
              "</style>\n",
              "<table border=\"1\" class=\"dataframe\">\n",
              "  <thead>\n",
              "    <tr style=\"text-align: right;\">\n",
              "      <th></th>\n",
              "      <th>Open</th>\n",
              "      <th>High</th>\n",
              "      <th>Low</th>\n",
              "      <th>Close</th>\n",
              "      <th>Adj Close</th>\n",
              "      <th>Volume</th>\n",
              "    </tr>\n",
              "    <tr>\n",
              "      <th>Date</th>\n",
              "      <th></th>\n",
              "      <th></th>\n",
              "      <th></th>\n",
              "      <th></th>\n",
              "      <th></th>\n",
              "      <th></th>\n",
              "    </tr>\n",
              "  </thead>\n",
              "  <tbody>\n",
              "    <tr>\n",
              "      <th>2024-03-28</th>\n",
              "      <td>36.040001</td>\n",
              "      <td>36.470001</td>\n",
              "      <td>35.910000</td>\n",
              "      <td>36.310001</td>\n",
              "      <td>34.761730</td>\n",
              "      <td>2279800</td>\n",
              "    </tr>\n",
              "    <tr>\n",
              "      <th>2024-04-01</th>\n",
              "      <td>36.310001</td>\n",
              "      <td>36.590000</td>\n",
              "      <td>36.110001</td>\n",
              "      <td>36.340000</td>\n",
              "      <td>34.790447</td>\n",
              "      <td>2070400</td>\n",
              "    </tr>\n",
              "    <tr>\n",
              "      <th>2024-04-02</th>\n",
              "      <td>36.340000</td>\n",
              "      <td>36.400002</td>\n",
              "      <td>36.009998</td>\n",
              "      <td>36.150002</td>\n",
              "      <td>34.608551</td>\n",
              "      <td>1773800</td>\n",
              "    </tr>\n",
              "    <tr>\n",
              "      <th>2024-04-03</th>\n",
              "      <td>36.139999</td>\n",
              "      <td>36.490002</td>\n",
              "      <td>36.049999</td>\n",
              "      <td>36.419998</td>\n",
              "      <td>34.867035</td>\n",
              "      <td>1464500</td>\n",
              "    </tr>\n",
              "    <tr>\n",
              "      <th>2024-04-04</th>\n",
              "      <td>36.419998</td>\n",
              "      <td>36.689999</td>\n",
              "      <td>36.320000</td>\n",
              "      <td>36.369999</td>\n",
              "      <td>34.819168</td>\n",
              "      <td>1308800</td>\n",
              "    </tr>\n",
              "    <tr>\n",
              "      <th>...</th>\n",
              "      <td>...</td>\n",
              "      <td>...</td>\n",
              "      <td>...</td>\n",
              "      <td>...</td>\n",
              "      <td>...</td>\n",
              "      <td>...</td>\n",
              "    </tr>\n",
              "    <tr>\n",
              "      <th>2024-06-24</th>\n",
              "      <td>33.680000</td>\n",
              "      <td>33.939999</td>\n",
              "      <td>33.570000</td>\n",
              "      <td>33.840000</td>\n",
              "      <td>33.840000</td>\n",
              "      <td>1250600</td>\n",
              "    </tr>\n",
              "    <tr>\n",
              "      <th>2024-06-25</th>\n",
              "      <td>33.840000</td>\n",
              "      <td>33.930000</td>\n",
              "      <td>33.720001</td>\n",
              "      <td>33.860001</td>\n",
              "      <td>33.860001</td>\n",
              "      <td>782900</td>\n",
              "    </tr>\n",
              "    <tr>\n",
              "      <th>2024-06-26</th>\n",
              "      <td>33.910000</td>\n",
              "      <td>33.990002</td>\n",
              "      <td>33.660000</td>\n",
              "      <td>33.970001</td>\n",
              "      <td>33.970001</td>\n",
              "      <td>1149000</td>\n",
              "    </tr>\n",
              "    <tr>\n",
              "      <th>2024-06-27</th>\n",
              "      <td>33.759998</td>\n",
              "      <td>34.200001</td>\n",
              "      <td>33.759998</td>\n",
              "      <td>34.160000</td>\n",
              "      <td>34.160000</td>\n",
              "      <td>1200000</td>\n",
              "    </tr>\n",
              "    <tr>\n",
              "      <th>2024-06-28</th>\n",
              "      <td>34.169998</td>\n",
              "      <td>34.430000</td>\n",
              "      <td>34.099998</td>\n",
              "      <td>34.230000</td>\n",
              "      <td>34.230000</td>\n",
              "      <td>1242700</td>\n",
              "    </tr>\n",
              "  </tbody>\n",
              "</table>\n",
              "<p>64 rows × 6 columns</p>\n",
              "</div>\n",
              "    <div class=\"colab-df-buttons\">\n",
              "\n",
              "  <div class=\"colab-df-container\">\n",
              "    <button class=\"colab-df-convert\" onclick=\"convertToInteractive('df-36b659ec-cce9-4a6a-a1c6-8acf07d24f15')\"\n",
              "            title=\"Convert this dataframe to an interactive table.\"\n",
              "            style=\"display:none;\">\n",
              "\n",
              "  <svg xmlns=\"http://www.w3.org/2000/svg\" height=\"24px\" viewBox=\"0 -960 960 960\">\n",
              "    <path d=\"M120-120v-720h720v720H120Zm60-500h600v-160H180v160Zm220 220h160v-160H400v160Zm0 220h160v-160H400v160ZM180-400h160v-160H180v160Zm440 0h160v-160H620v160ZM180-180h160v-160H180v160Zm440 0h160v-160H620v160Z\"/>\n",
              "  </svg>\n",
              "    </button>\n",
              "\n",
              "  <style>\n",
              "    .colab-df-container {\n",
              "      display:flex;\n",
              "      gap: 12px;\n",
              "    }\n",
              "\n",
              "    .colab-df-convert {\n",
              "      background-color: #E8F0FE;\n",
              "      border: none;\n",
              "      border-radius: 50%;\n",
              "      cursor: pointer;\n",
              "      display: none;\n",
              "      fill: #1967D2;\n",
              "      height: 32px;\n",
              "      padding: 0 0 0 0;\n",
              "      width: 32px;\n",
              "    }\n",
              "\n",
              "    .colab-df-convert:hover {\n",
              "      background-color: #E2EBFA;\n",
              "      box-shadow: 0px 1px 2px rgba(60, 64, 67, 0.3), 0px 1px 3px 1px rgba(60, 64, 67, 0.15);\n",
              "      fill: #174EA6;\n",
              "    }\n",
              "\n",
              "    .colab-df-buttons div {\n",
              "      margin-bottom: 4px;\n",
              "    }\n",
              "\n",
              "    [theme=dark] .colab-df-convert {\n",
              "      background-color: #3B4455;\n",
              "      fill: #D2E3FC;\n",
              "    }\n",
              "\n",
              "    [theme=dark] .colab-df-convert:hover {\n",
              "      background-color: #434B5C;\n",
              "      box-shadow: 0px 1px 3px 1px rgba(0, 0, 0, 0.15);\n",
              "      filter: drop-shadow(0px 1px 2px rgba(0, 0, 0, 0.3));\n",
              "      fill: #FFFFFF;\n",
              "    }\n",
              "  </style>\n",
              "\n",
              "    <script>\n",
              "      const buttonEl =\n",
              "        document.querySelector('#df-36b659ec-cce9-4a6a-a1c6-8acf07d24f15 button.colab-df-convert');\n",
              "      buttonEl.style.display =\n",
              "        google.colab.kernel.accessAllowed ? 'block' : 'none';\n",
              "\n",
              "      async function convertToInteractive(key) {\n",
              "        const element = document.querySelector('#df-36b659ec-cce9-4a6a-a1c6-8acf07d24f15');\n",
              "        const dataTable =\n",
              "          await google.colab.kernel.invokeFunction('convertToInteractive',\n",
              "                                                    [key], {});\n",
              "        if (!dataTable) return;\n",
              "\n",
              "        const docLinkHtml = 'Like what you see? Visit the ' +\n",
              "          '<a target=\"_blank\" href=https://colab.research.google.com/notebooks/data_table.ipynb>data table notebook</a>'\n",
              "          + ' to learn more about interactive tables.';\n",
              "        element.innerHTML = '';\n",
              "        dataTable['output_type'] = 'display_data';\n",
              "        await google.colab.output.renderOutput(dataTable, element);\n",
              "        const docLink = document.createElement('div');\n",
              "        docLink.innerHTML = docLinkHtml;\n",
              "        element.appendChild(docLink);\n",
              "      }\n",
              "    </script>\n",
              "  </div>\n",
              "\n",
              "\n",
              "<div id=\"df-29b76d13-e5b3-4144-9313-3754dd9feba7\">\n",
              "  <button class=\"colab-df-quickchart\" onclick=\"quickchart('df-29b76d13-e5b3-4144-9313-3754dd9feba7')\"\n",
              "            title=\"Suggest charts\"\n",
              "            style=\"display:none;\">\n",
              "\n",
              "<svg xmlns=\"http://www.w3.org/2000/svg\" height=\"24px\"viewBox=\"0 0 24 24\"\n",
              "     width=\"24px\">\n",
              "    <g>\n",
              "        <path d=\"M19 3H5c-1.1 0-2 .9-2 2v14c0 1.1.9 2 2 2h14c1.1 0 2-.9 2-2V5c0-1.1-.9-2-2-2zM9 17H7v-7h2v7zm4 0h-2V7h2v10zm4 0h-2v-4h2v4z\"/>\n",
              "    </g>\n",
              "</svg>\n",
              "  </button>\n",
              "\n",
              "<style>\n",
              "  .colab-df-quickchart {\n",
              "      --bg-color: #E8F0FE;\n",
              "      --fill-color: #1967D2;\n",
              "      --hover-bg-color: #E2EBFA;\n",
              "      --hover-fill-color: #174EA6;\n",
              "      --disabled-fill-color: #AAA;\n",
              "      --disabled-bg-color: #DDD;\n",
              "  }\n",
              "\n",
              "  [theme=dark] .colab-df-quickchart {\n",
              "      --bg-color: #3B4455;\n",
              "      --fill-color: #D2E3FC;\n",
              "      --hover-bg-color: #434B5C;\n",
              "      --hover-fill-color: #FFFFFF;\n",
              "      --disabled-bg-color: #3B4455;\n",
              "      --disabled-fill-color: #666;\n",
              "  }\n",
              "\n",
              "  .colab-df-quickchart {\n",
              "    background-color: var(--bg-color);\n",
              "    border: none;\n",
              "    border-radius: 50%;\n",
              "    cursor: pointer;\n",
              "    display: none;\n",
              "    fill: var(--fill-color);\n",
              "    height: 32px;\n",
              "    padding: 0;\n",
              "    width: 32px;\n",
              "  }\n",
              "\n",
              "  .colab-df-quickchart:hover {\n",
              "    background-color: var(--hover-bg-color);\n",
              "    box-shadow: 0 1px 2px rgba(60, 64, 67, 0.3), 0 1px 3px 1px rgba(60, 64, 67, 0.15);\n",
              "    fill: var(--button-hover-fill-color);\n",
              "  }\n",
              "\n",
              "  .colab-df-quickchart-complete:disabled,\n",
              "  .colab-df-quickchart-complete:disabled:hover {\n",
              "    background-color: var(--disabled-bg-color);\n",
              "    fill: var(--disabled-fill-color);\n",
              "    box-shadow: none;\n",
              "  }\n",
              "\n",
              "  .colab-df-spinner {\n",
              "    border: 2px solid var(--fill-color);\n",
              "    border-color: transparent;\n",
              "    border-bottom-color: var(--fill-color);\n",
              "    animation:\n",
              "      spin 1s steps(1) infinite;\n",
              "  }\n",
              "\n",
              "  @keyframes spin {\n",
              "    0% {\n",
              "      border-color: transparent;\n",
              "      border-bottom-color: var(--fill-color);\n",
              "      border-left-color: var(--fill-color);\n",
              "    }\n",
              "    20% {\n",
              "      border-color: transparent;\n",
              "      border-left-color: var(--fill-color);\n",
              "      border-top-color: var(--fill-color);\n",
              "    }\n",
              "    30% {\n",
              "      border-color: transparent;\n",
              "      border-left-color: var(--fill-color);\n",
              "      border-top-color: var(--fill-color);\n",
              "      border-right-color: var(--fill-color);\n",
              "    }\n",
              "    40% {\n",
              "      border-color: transparent;\n",
              "      border-right-color: var(--fill-color);\n",
              "      border-top-color: var(--fill-color);\n",
              "    }\n",
              "    60% {\n",
              "      border-color: transparent;\n",
              "      border-right-color: var(--fill-color);\n",
              "    }\n",
              "    80% {\n",
              "      border-color: transparent;\n",
              "      border-right-color: var(--fill-color);\n",
              "      border-bottom-color: var(--fill-color);\n",
              "    }\n",
              "    90% {\n",
              "      border-color: transparent;\n",
              "      border-bottom-color: var(--fill-color);\n",
              "    }\n",
              "  }\n",
              "</style>\n",
              "\n",
              "  <script>\n",
              "    async function quickchart(key) {\n",
              "      const quickchartButtonEl =\n",
              "        document.querySelector('#' + key + ' button');\n",
              "      quickchartButtonEl.disabled = true;  // To prevent multiple clicks.\n",
              "      quickchartButtonEl.classList.add('colab-df-spinner');\n",
              "      try {\n",
              "        const charts = await google.colab.kernel.invokeFunction(\n",
              "            'suggestCharts', [key], {});\n",
              "      } catch (error) {\n",
              "        console.error('Error during call to suggestCharts:', error);\n",
              "      }\n",
              "      quickchartButtonEl.classList.remove('colab-df-spinner');\n",
              "      quickchartButtonEl.classList.add('colab-df-quickchart-complete');\n",
              "    }\n",
              "    (() => {\n",
              "      let quickchartButtonEl =\n",
              "        document.querySelector('#df-29b76d13-e5b3-4144-9313-3754dd9feba7 button');\n",
              "      quickchartButtonEl.style.display =\n",
              "        google.colab.kernel.accessAllowed ? 'block' : 'none';\n",
              "    })();\n",
              "  </script>\n",
              "</div>\n",
              "\n",
              "  <div id=\"id_42c31341-f34d-413f-b71b-15ade011ebf0\">\n",
              "    <style>\n",
              "      .colab-df-generate {\n",
              "        background-color: #E8F0FE;\n",
              "        border: none;\n",
              "        border-radius: 50%;\n",
              "        cursor: pointer;\n",
              "        display: none;\n",
              "        fill: #1967D2;\n",
              "        height: 32px;\n",
              "        padding: 0 0 0 0;\n",
              "        width: 32px;\n",
              "      }\n",
              "\n",
              "      .colab-df-generate:hover {\n",
              "        background-color: #E2EBFA;\n",
              "        box-shadow: 0px 1px 2px rgba(60, 64, 67, 0.3), 0px 1px 3px 1px rgba(60, 64, 67, 0.15);\n",
              "        fill: #174EA6;\n",
              "      }\n",
              "\n",
              "      [theme=dark] .colab-df-generate {\n",
              "        background-color: #3B4455;\n",
              "        fill: #D2E3FC;\n",
              "      }\n",
              "\n",
              "      [theme=dark] .colab-df-generate:hover {\n",
              "        background-color: #434B5C;\n",
              "        box-shadow: 0px 1px 3px 1px rgba(0, 0, 0, 0.15);\n",
              "        filter: drop-shadow(0px 1px 2px rgba(0, 0, 0, 0.3));\n",
              "        fill: #FFFFFF;\n",
              "      }\n",
              "    </style>\n",
              "    <button class=\"colab-df-generate\" onclick=\"generateWithVariable('tickerDf')\"\n",
              "            title=\"Generate code using this dataframe.\"\n",
              "            style=\"display:none;\">\n",
              "\n",
              "  <svg xmlns=\"http://www.w3.org/2000/svg\" height=\"24px\"viewBox=\"0 0 24 24\"\n",
              "       width=\"24px\">\n",
              "    <path d=\"M7,19H8.4L18.45,9,17,7.55,7,17.6ZM5,21V16.75L18.45,3.32a2,2,0,0,1,2.83,0l1.4,1.43a1.91,1.91,0,0,1,.58,1.4,1.91,1.91,0,0,1-.58,1.4L9.25,21ZM18.45,9,17,7.55Zm-12,3A5.31,5.31,0,0,0,4.9,8.1,5.31,5.31,0,0,0,1,6.5,5.31,5.31,0,0,0,4.9,4.9,5.31,5.31,0,0,0,6.5,1,5.31,5.31,0,0,0,8.1,4.9,5.31,5.31,0,0,0,12,6.5,5.46,5.46,0,0,0,6.5,12Z\"/>\n",
              "  </svg>\n",
              "    </button>\n",
              "    <script>\n",
              "      (() => {\n",
              "      const buttonEl =\n",
              "        document.querySelector('#id_42c31341-f34d-413f-b71b-15ade011ebf0 button.colab-df-generate');\n",
              "      buttonEl.style.display =\n",
              "        google.colab.kernel.accessAllowed ? 'block' : 'none';\n",
              "\n",
              "      buttonEl.onclick = () => {\n",
              "        google.colab.notebook.generateWithVariable('tickerDf');\n",
              "      }\n",
              "      })();\n",
              "    </script>\n",
              "  </div>\n",
              "\n",
              "    </div>\n",
              "  </div>\n"
            ],
            "application/vnd.google.colaboratory.intrinsic+json": {
              "type": "dataframe",
              "variable_name": "tickerDf",
              "summary": "{\n  \"name\": \"tickerDf\",\n  \"rows\": 64,\n  \"fields\": [\n    {\n      \"column\": \"Date\",\n      \"properties\": {\n        \"dtype\": \"date\",\n        \"min\": \"2024-03-28 00:00:00\",\n        \"max\": \"2024-06-28 00:00:00\",\n        \"num_unique_values\": 64,\n        \"samples\": [\n          \"2024-06-13 00:00:00\",\n          \"2024-06-21 00:00:00\",\n          \"2024-03-28 00:00:00\"\n        ],\n        \"semantic_type\": \"\",\n        \"description\": \"\"\n      }\n    },\n    {\n      \"column\": \"Open\",\n      \"properties\": {\n        \"dtype\": \"number\",\n        \"std\": 0.9948573826851668,\n        \"min\": 33.22999954223633,\n        \"max\": 36.560001373291016,\n        \"num_unique_values\": 56,\n        \"samples\": [\n          36.040000915527344,\n          36.369998931884766,\n          35.439998626708984\n        ],\n        \"semantic_type\": \"\",\n        \"description\": \"\"\n      }\n    },\n    {\n      \"column\": \"High\",\n      \"properties\": {\n        \"dtype\": \"number\",\n        \"std\": 1.0245331263145874,\n        \"min\": 33.38999938964844,\n        \"max\": 36.91999816894531,\n        \"num_unique_values\": 61,\n        \"samples\": [\n          36.470001220703125,\n          36.43000030517578,\n          34.33000183105469\n        ],\n        \"semantic_type\": \"\",\n        \"description\": \"\"\n      }\n    },\n    {\n      \"column\": \"Low\",\n      \"properties\": {\n        \"dtype\": \"number\",\n        \"std\": 0.9844281964354775,\n        \"min\": 33.099998474121094,\n        \"max\": 36.31999969482422,\n        \"num_unique_values\": 56,\n        \"samples\": [\n          35.90999984741211,\n          36.08000183105469,\n          34.970001220703125\n        ],\n        \"semantic_type\": \"\",\n        \"description\": \"\"\n      }\n    },\n    {\n      \"column\": \"Close\",\n      \"properties\": {\n        \"dtype\": \"number\",\n        \"std\": 1.0087022904545029,\n        \"min\": 33.22999954223633,\n        \"max\": 36.599998474121094,\n        \"num_unique_values\": 59,\n        \"samples\": [\n          36.310001373291016,\n          36.209999084472656,\n          35.459999084472656\n        ],\n        \"semantic_type\": \"\",\n        \"description\": \"\"\n      }\n    },\n    {\n      \"column\": \"Adj Close\",\n      \"properties\": {\n        \"dtype\": \"number\",\n        \"std\": 0.6280184559748209,\n        \"min\": 33.22999954223633,\n        \"max\": 35.75,\n        \"num_unique_values\": 60,\n        \"samples\": [\n          34.7617301940918,\n          34.665992736816406,\n          34.970001220703125\n        ],\n        \"semantic_type\": \"\",\n        \"description\": \"\"\n      }\n    },\n    {\n      \"column\": \"Volume\",\n      \"properties\": {\n        \"dtype\": \"number\",\n        \"std\": 1477092,\n        \"min\": 782900,\n        \"max\": 10303300,\n        \"num_unique_values\": 64,\n        \"samples\": [\n          1721800,\n          4799800,\n          2279800\n        ],\n        \"semantic_type\": \"\",\n        \"description\": \"\"\n      }\n    }\n  ]\n}"
            }
          },
          "metadata": {},
          "execution_count": 155
        }
      ]
    },
    {
      "cell_type": "code",
      "source": [
        "tickerDf.info()"
      ],
      "metadata": {
        "colab": {
          "base_uri": "https://localhost:8080/"
        },
        "id": "dAwu9PTQVb0h",
        "outputId": "ed4728f7-fbe0-4a03-80fe-3f75593c15d3"
      },
      "execution_count": 156,
      "outputs": [
        {
          "output_type": "stream",
          "name": "stdout",
          "text": [
            "<class 'pandas.core.frame.DataFrame'>\n",
            "DatetimeIndex: 64 entries, 2024-03-28 to 2024-06-28\n",
            "Data columns (total 6 columns):\n",
            " #   Column     Non-Null Count  Dtype  \n",
            "---  ------     --------------  -----  \n",
            " 0   Open       64 non-null     float64\n",
            " 1   High       64 non-null     float64\n",
            " 2   Low        64 non-null     float64\n",
            " 3   Close      64 non-null     float64\n",
            " 4   Adj Close  64 non-null     float64\n",
            " 5   Volume     64 non-null     int64  \n",
            "dtypes: float64(5), int64(1)\n",
            "memory usage: 3.5 KB\n"
          ]
        }
      ]
    },
    {
      "cell_type": "code",
      "source": [
        "print(tickerDf.isnull().sum())"
      ],
      "metadata": {
        "colab": {
          "base_uri": "https://localhost:8080/"
        },
        "id": "JUtGEFX28TuT",
        "outputId": "6091b913-ba2d-4195-93fa-7379c6f93098"
      },
      "execution_count": 157,
      "outputs": [
        {
          "output_type": "stream",
          "name": "stdout",
          "text": [
            "Open         0\n",
            "High         0\n",
            "Low          0\n",
            "Close        0\n",
            "Adj Close    0\n",
            "Volume       0\n",
            "dtype: int64\n"
          ]
        }
      ]
    },
    {
      "cell_type": "code",
      "source": [
        "dados = tickerDf.dropna()"
      ],
      "metadata": {
        "id": "cop-G8bB8XPg"
      },
      "execution_count": 158,
      "outputs": []
    },
    {
      "cell_type": "code",
      "source": [
        "tickerDf['Date'] = tickerDf.index.map(pd.Timestamp.toordinal)\n",
        "#converte a data em numeros do dia  'proleptica' calendario gregoriano"
      ],
      "metadata": {
        "id": "L09i7l98X6u9"
      },
      "execution_count": 159,
      "outputs": []
    },
    {
      "cell_type": "code",
      "source": [
        "Eixo_x = tickerDf['Date'].values\n",
        "Eixo_y = tickerDf['Close'].values"
      ],
      "metadata": {
        "id": "lC7pKar2-7gT"
      },
      "execution_count": 160,
      "outputs": []
    },
    {
      "cell_type": "code",
      "source": [
        "Eixo_x"
      ],
      "metadata": {
        "colab": {
          "base_uri": "https://localhost:8080/"
        },
        "collapsed": true,
        "id": "h3wa-TX7_BX1",
        "outputId": "b09fb425-a4f0-44fa-ffe5-f8da3272ea99"
      },
      "execution_count": 161,
      "outputs": [
        {
          "output_type": "execute_result",
          "data": {
            "text/plain": [
              "array([738973, 738977, 738978, 738979, 738980, 738981, 738984, 738985,\n",
              "       738986, 738987, 738988, 738991, 738992, 738993, 738994, 738995,\n",
              "       738998, 738999, 739000, 739001, 739002, 739005, 739006, 739008,\n",
              "       739009, 739012, 739013, 739014, 739015, 739016, 739019, 739020,\n",
              "       739021, 739022, 739023, 739026, 739027, 739028, 739029, 739030,\n",
              "       739033, 739034, 739035, 739037, 739040, 739041, 739042, 739043,\n",
              "       739044, 739047, 739048, 739049, 739050, 739051, 739054, 739055,\n",
              "       739056, 739057, 739058, 739061, 739062, 739063, 739064, 739065])"
            ]
          },
          "metadata": {},
          "execution_count": 161
        }
      ]
    },
    {
      "cell_type": "code",
      "source": [
        "Eixo_y"
      ],
      "metadata": {
        "colab": {
          "base_uri": "https://localhost:8080/"
        },
        "id": "wI8UwdSgKbWl",
        "outputId": "95dc2a70-b41c-4c5e-e798-a3d648bbee60"
      },
      "execution_count": 162,
      "outputs": [
        {
          "output_type": "execute_result",
          "data": {
            "text/plain": [
              "array([36.31000137, 36.34000015, 36.15000153, 36.41999817, 36.36999893,\n",
              "       36.20999908, 36.20000076, 36.56000137, 36.40000153, 36.59999847,\n",
              "       35.68999863, 35.81999969, 35.79999924, 35.70000076, 35.61000061,\n",
              "       35.70999908, 35.79999924, 35.47999954, 35.36000061, 35.04999924,\n",
              "       35.25      , 35.20000076, 35.22000122, 36.22000122, 36.54999924,\n",
              "       35.56000137, 35.34000015, 35.65000153, 34.81000137, 34.61999893,\n",
              "       35.        , 35.        , 35.00999832, 35.        , 34.84999847,\n",
              "       35.40000153, 35.75      , 35.45999908, 34.97000122, 35.29999924,\n",
              "       35.06999969, 34.88000107, 34.56000137, 34.27999878, 34.15999985,\n",
              "       34.34000015, 33.95000076, 34.        , 33.68999863, 33.52999878,\n",
              "       33.79000092, 33.41999817, 33.34999847, 33.34999847, 33.22999954,\n",
              "       33.29000092, 33.36000061, 33.49000168, 33.59999847, 33.84000015,\n",
              "       33.86000061, 33.97000122, 34.15999985, 34.22999954])"
            ]
          },
          "metadata": {},
          "execution_count": 162
        }
      ]
    },
    {
      "cell_type": "code",
      "source": [
        "plt.figure(figsize=(10,5))\n",
        "plt.scatter(Eixo_x,Eixo_y);\n",
        "plt.title('Gráfico de dispersão')\n",
        "plt.xlabel('x')\n",
        "plt.ylabel('y')"
      ],
      "metadata": {
        "colab": {
          "base_uri": "https://localhost:8080/",
          "height": 506
        },
        "id": "gTrqz8dP_ulA",
        "outputId": "af54a1a0-f32f-4bb2-a2e1-584696d1a1a7"
      },
      "execution_count": 163,
      "outputs": [
        {
          "output_type": "execute_result",
          "data": {
            "text/plain": [
              "Text(0, 0.5, 'y')"
            ]
          },
          "metadata": {},
          "execution_count": 163
        },
        {
          "output_type": "display_data",
          "data": {
            "text/plain": [
              "<Figure size 1000x500 with 1 Axes>"
            ],
            "image/png": "[encoded data removed]"
          },
          "metadata": {}
        }
      ]
    },
    {
      "cell_type": "code",
      "source": [
        "Eixo_x = np.array(Eixo_x).astype(float)\n",
        "Eixo_y = np.array(Eixo_y).astype(float)"
      ],
      "metadata": {
        "id": "O8AlMlgDKMEH"
      },
      "execution_count": 164,
      "outputs": []
    },
    {
      "cell_type": "code",
      "source": [
        "Correlacao =np.corrcoef(Eixo_x,Eixo_y)\n",
        "Correlacao"
      ],
      "metadata": {
        "colab": {
          "base_uri": "https://localhost:8080/"
        },
        "id": "HCBDJry2E4VL",
        "outputId": "1826c349-f539-4dbe-8060-2da8faf505f9"
      },
      "execution_count": 165,
      "outputs": [
        {
          "output_type": "execute_result",
          "data": {
            "text/plain": [
              "array([[ 1.        , -0.90674267],\n",
              "       [-0.90674267,  1.        ]])"
            ]
          },
          "metadata": {},
          "execution_count": 165
        }
      ]
    },
    {
      "cell_type": "code",
      "source": [
        "Eixo_x = Eixo_x.reshape(-1,1)\n",
        "Eixo_y = Eixo_y.reshape(-1,1)\n"
      ],
      "metadata": {
        "id": "FHYNS31jCn8E"
      },
      "execution_count": 166,
      "outputs": []
    },
    {
      "cell_type": "code",
      "source": [
        "from sklearn.model_selection import train_test_split\n",
        "X_train, X_test, y_train, y_test = train_test_split(Eixo_x, Eixo_y, test_size=0.3,)"
      ],
      "metadata": {
        "id": "h0ofuXMrC6tB"
      },
      "execution_count": 167,
      "outputs": []
    },
    {
      "cell_type": "code",
      "source": [
        "print(len(X_train))\n",
        "print(len(X_test))"
      ],
      "metadata": {
        "colab": {
          "base_uri": "https://localhost:8080/"
        },
        "id": "zmyU-RyyDeQK",
        "outputId": "2c283ade-6889-4bf6-f359-72c7b591193e"
      },
      "execution_count": 168,
      "outputs": [
        {
          "output_type": "stream",
          "name": "stdout",
          "text": [
            "44\n",
            "20\n"
          ]
        }
      ]
    },
    {
      "cell_type": "code",
      "source": [
        "from sklearn.linear_model import LinearRegression\n",
        "regressor = LinearRegression()\n",
        "regressor.fit(X_train, y_train)"
      ],
      "metadata": {
        "colab": {
          "base_uri": "https://localhost:8080/",
          "height": 75
        },
        "id": "WgDRqxBYD4ub",
        "outputId": "0303a1d4-f0be-4858-8076-17cfbd5f44a0"
      },
      "execution_count": 169,
      "outputs": [
        {
          "output_type": "execute_result",
          "data": {
            "text/plain": [
              "LinearRegression()"
            ],
            "text/html": [
              "<style>#sk-container-id-8 {color: black;background-color: white;}#sk-container-id-8 pre{padding: 0;}#sk-container-id-8 div.sk-toggleable {background-color: white;}#sk-container-id-8 label.sk-toggleable__label {cursor: pointer;display: block;width: 100%;margin-bottom: 0;padding: 0.3em;box-sizing: border-box;text-align: center;}#sk-container-id-8 label.sk-toggleable__label-arrow:before {content: \"▸\";float: left;margin-right: 0.25em;color: #696969;}#sk-container-id-8 label.sk-toggleable__label-arrow:hover:before {color: black;}#sk-container-id-8 div.sk-estimator:hover label.sk-toggleable__label-arrow:before {color: black;}#sk-container-id-8 div.sk-toggleable__content {max-height: 0;max-width: 0;overflow: hidden;text-align: left;background-color: #f0f8ff;}#sk-container-id-8 div.sk-toggleable__content pre {margin: 0.2em;color: black;border-radius: 0.25em;background-color: #f0f8ff;}#sk-container-id-8 input.sk-toggleable__control:checked~div.sk-toggleable__content {max-height: 200px;max-width: 100%;overflow: auto;}#sk-container-id-8 input.sk-toggleable__control:checked~label.sk-toggleable__label-arrow:before {content: \"▾\";}#sk-container-id-8 div.sk-estimator input.sk-toggleable__control:checked~label.sk-toggleable__label {background-color: #d4ebff;}#sk-container-id-8 div.sk-label input.sk-toggleable__control:checked~label.sk-toggleable__label {background-color: #d4ebff;}#sk-container-id-8 input.sk-hidden--visually {border: 0;clip: rect(1px 1px 1px 1px);clip: rect(1px, 1px, 1px, 1px);height: 1px;margin: -1px;overflow: hidden;padding: 0;position: absolute;width: 1px;}#sk-container-id-8 div.sk-estimator {font-family: monospace;background-color: #f0f8ff;border: 1px dotted black;border-radius: 0.25em;box-sizing: border-box;margin-bottom: 0.5em;}#sk-container-id-8 div.sk-estimator:hover {background-color: #d4ebff;}#sk-container-id-8 div.sk-parallel-item::after {content: \"\";width: 100%;border-bottom: 1px solid gray;flex-grow: 1;}#sk-container-id-8 div.sk-label:hover label.sk-toggleable__label {background-color: #d4ebff;}#sk-container-id-8 div.sk-serial::before {content: \"\";position: absolute;border-left: 1px solid gray;box-sizing: border-box;top: 0;bottom: 0;left: 50%;z-index: 0;}#sk-container-id-8 div.sk-serial {display: flex;flex-direction: column;align-items: center;background-color: white;padding-right: 0.2em;padding-left: 0.2em;position: relative;}#sk-container-id-8 div.sk-item {position: relative;z-index: 1;}#sk-container-id-8 div.sk-parallel {display: flex;align-items: stretch;justify-content: center;background-color: white;position: relative;}#sk-container-id-8 div.sk-item::before, #sk-container-id-8 div.sk-parallel-item::before {content: \"\";position: absolute;border-left: 1px solid gray;box-sizing: border-box;top: 0;bottom: 0;left: 50%;z-index: -1;}#sk-container-id-8 div.sk-parallel-item {display: flex;flex-direction: column;z-index: 1;position: relative;background-color: white;}#sk-container-id-8 div.sk-parallel-item:first-child::after {align-self: flex-end;width: 50%;}#sk-container-id-8 div.sk-parallel-item:last-child::after {align-self: flex-start;width: 50%;}#sk-container-id-8 div.sk-parallel-item:only-child::after {width: 0;}#sk-container-id-8 div.sk-dashed-wrapped {border: 1px dashed gray;margin: 0 0.4em 0.5em 0.4em;box-sizing: border-box;padding-bottom: 0.4em;background-color: white;}#sk-container-id-8 div.sk-label label {font-family: monospace;font-weight: bold;display: inline-block;line-height: 1.2em;}#sk-container-id-8 div.sk-label-container {text-align: center;}#sk-container-id-8 div.sk-container {/* jupyter's `normalize.less` sets `[hidden] { display: none; }` but bootstrap.min.css set `[hidden] { display: none !important; }` so we also need the `!important` here to be able to override the default hidden behavior on the sphinx rendered scikit-learn.org. See: https://github.com/scikit-learn/scikit-learn/issues/21755 */display: inline-block !important;position: relative;}#sk-container-id-8 div.sk-text-repr-fallback {display: none;}</style><div id=\"sk-container-id-8\" class=\"sk-top-container\"><div class=\"sk-text-repr-fallback\"><pre>LinearRegression()</pre><b>In a Jupyter environment, please rerun this cell to show the HTML representation or trust the notebook. <br />On GitHub, the HTML representation is unable to render, please try loading this page with nbviewer.org.</b></div><div class=\"sk-container\" hidden><div class=\"sk-item\"><div class=\"sk-estimator sk-toggleable\"><input class=\"sk-toggleable__control sk-hidden--visually\" id=\"sk-estimator-id-8\" type=\"checkbox\" checked><label for=\"sk-estimator-id-8\" class=\"sk-toggleable__label sk-toggleable__label-arrow\">LinearRegression</label><div class=\"sk-toggleable__content\"><pre>LinearRegression()</pre></div></div></div></div></div>"
            ]
          },
          "metadata": {},
          "execution_count": 169
        }
      ]
    },
    {
      "cell_type": "code",
      "source": [
        "from sklearn.model_selection import train_test_split, GridSearchCV, cross_val_score\n",
        "param_grid = {'fit_intercept': [True, False]}\n",
        "grid = GridSearchCV(regressor, param_grid, cv=5)\n",
        "grid.fit(X_train, y_train)\n",
        "print(f'Best alpha: {grid.best_params_[\"fit_intercept\"]}')"
      ],
      "metadata": {
        "colab": {
          "base_uri": "https://localhost:8080/"
        },
        "id": "Kl2wy7wADSCH",
        "outputId": "4ac3b7a7-ae96-445d-e764-d39812c81af9"
      },
      "execution_count": 170,
      "outputs": [
        {
          "output_type": "stream",
          "name": "stdout",
          "text": [
            "Best alpha: True\n"
          ]
        }
      ]
    },
    {
      "cell_type": "code",
      "source": [
        "regressor.score(X_train, y_train)"
      ],
      "metadata": {
        "colab": {
          "base_uri": "https://localhost:8080/"
        },
        "id": "KixzHjM7FUFf",
        "outputId": "fc87bac2-61f1-4353-df1b-9c2e04652945"
      },
      "execution_count": 171,
      "outputs": [
        {
          "output_type": "execute_result",
          "data": {
            "text/plain": [
              "0.7887955988898474"
            ]
          },
          "metadata": {},
          "execution_count": 171
        }
      ]
    },
    {
      "cell_type": "code",
      "source": [
        "plt.figure(figsize=(10,6))\n",
        "plt.scatter(X_train, y_train, color = 'red')\n",
        "plt.plot(X_test, regressor.predict(X_test), color = 'blue')"
      ],
      "metadata": {
        "colab": {
          "base_uri": "https://localhost:8080/",
          "height": 558
        },
        "id": "ILxUvJqKF-YN",
        "outputId": "e2917c17-d157-4a2c-d4b5-dd5cd49ab22e"
      },
      "execution_count": 172,
      "outputs": [
        {
          "output_type": "execute_result",
          "data": {
            "text/plain": [
              "[<matplotlib.lines.Line2D at 0x79926f619a50>]"
            ]
          },
          "metadata": {},
          "execution_count": 172
        },
        {
          "output_type": "display_data",
          "data": {
            "text/plain": [
              "<Figure size 1000x600 with 1 Axes>"
            ],
            "image/png": "[encoded data removed]"
          },
          "metadata": {}
        }
      ]
    },
    {
      "cell_type": "code",
      "source": [
        "previsoes = regressor.predict(X_test)\n",
        "from sklearn import metrics\n",
        "\n",
        "print('RMSE', np.sqrt( metrics.mean_squared_error( y_test, previsoes)))"
      ],
      "metadata": {
        "colab": {
          "base_uri": "https://localhost:8080/"
        },
        "id": "1hdJgI7yEcWO",
        "outputId": "974881af-0f95-4734-a003-9564fb25d2df"
      },
      "execution_count": 175,
      "outputs": [
        {
          "output_type": "stream",
          "name": "stdout",
          "text": [
            "RMSE 0.3597812685279286\n"
          ]
        }
      ]
    },
    {
      "cell_type": "code",
      "source": [
        "mse_lin_reg = mean_squared_error(y_test, previsoes )"
      ],
      "metadata": {
        "id": "Jp11DGM1lA9B"
      },
      "execution_count": 176,
      "outputs": []
    },
    {
      "cell_type": "code",
      "source": [
        "print( regressor.predict([[739067]]))"
      ],
      "metadata": {
        "colab": {
          "base_uri": "https://localhost:8080/"
        },
        "id": "H7pBiLd2G6d6",
        "outputId": "90bcdd00-2db0-4e68-c677-eb2d44682449"
      },
      "execution_count": 177,
      "outputs": [
        {
          "output_type": "stream",
          "name": "stdout",
          "text": [
            "[[33.51047226]]\n"
          ]
        }
      ]
    },
    {
      "cell_type": "markdown",
      "source": [],
      "metadata": {
        "id": "KiB-UnyYnpzk"
      }
    },
    {
      "cell_type": "markdown",
      "source": [
        "# Nova seção"
      ],
      "metadata": {
        "id": "aYxwC4Kqnr6_"
      }
    },
    {
      "cell_type": "markdown",
      "source": [
        "#rede neural feedfoward"
      ],
      "metadata": {
        "id": "D2T0vMdFntqn"
      }
    },
    {
      "cell_type": "code",
      "source": [
        "from sklearn.preprocessing import StandardScaler, PolynomialFeatures\n",
        "from sklearn.metrics import mean_squared_error\n"
      ],
      "metadata": {
        "id": "LUiAPrp-n8q1"
      },
      "execution_count": 178,
      "outputs": []
    },
    {
      "cell_type": "code",
      "source": [
        "tickerSymbol = 'TAEE11.SA'\n",
        "tickerData = yf.Ticker(tickerSymbol)\n",
        "tickerDf=tickerData.history(period = '1d',\n",
        "                            interval='1m')\n",
        "tickerDf"
      ],
      "metadata": {
        "colab": {
          "base_uri": "https://localhost:8080/",
          "height": 455
        },
        "id": "MO-lNUy3oD0R",
        "outputId": "0dedaed1-fd8d-45c4-bef0-40026e43691a"
      },
      "execution_count": 179,
      "outputs": [
        {
          "output_type": "execute_result",
          "data": {
            "text/plain": [
              "                                Open       High        Low      Close  Volume  \\\n",
              "Datetime                                                                        \n",
              "2024-06-28 10:02:00-03:00  34.169998  34.410000  34.169998  34.360001       0   \n",
              "2024-06-28 10:03:00-03:00  34.360001  34.430000  34.340000  34.340000    6000   \n",
              "2024-06-28 10:04:00-03:00  34.340000  34.340000  34.230000  34.270000    2400   \n",
              "2024-06-28 10:05:00-03:00  34.270000  34.310001  34.270000  34.270000    3100   \n",
              "2024-06-28 10:06:00-03:00  34.279999  34.299999  34.270000  34.270000    1900   \n",
              "...                              ...        ...        ...        ...     ...   \n",
              "2024-06-28 16:50:00-03:00  34.200001  34.209999  34.200001  34.200001    4200   \n",
              "2024-06-28 16:51:00-03:00  34.200001  34.220001  34.200001  34.200001    4900   \n",
              "2024-06-28 16:52:00-03:00  34.220001  34.220001  34.200001  34.220001    1200   \n",
              "2024-06-28 16:53:00-03:00  34.220001  34.230000  34.209999  34.220001    1800   \n",
              "2024-06-28 16:54:00-03:00  34.200001  34.400002  34.200001  34.310001   41500   \n",
              "\n",
              "                           Dividends  Stock Splits  \n",
              "Datetime                                            \n",
              "2024-06-28 10:02:00-03:00        0.0           0.0  \n",
              "2024-06-28 10:03:00-03:00        0.0           0.0  \n",
              "2024-06-28 10:04:00-03:00        0.0           0.0  \n",
              "2024-06-28 10:05:00-03:00        0.0           0.0  \n",
              "2024-06-28 10:06:00-03:00        0.0           0.0  \n",
              "...                              ...           ...  \n",
              "2024-06-28 16:50:00-03:00        0.0           0.0  \n",
              "2024-06-28 16:51:00-03:00        0.0           0.0  \n",
              "2024-06-28 16:52:00-03:00        0.0           0.0  \n",
              "2024-06-28 16:53:00-03:00        0.0           0.0  \n",
              "2024-06-28 16:54:00-03:00        0.0           0.0  \n",
              "\n",
              "[413 rows x 7 columns]"
            ],
            "text/html": [
              "\n",
              "  <div id=\"df-561a211f-b179-4aaf-9429-06763dd17cbd\" class=\"colab-df-container\">\n",
              "    <div>\n",
              "<style scoped>\n",
              "    .dataframe tbody tr th:only-of-type {\n",
              "        vertical-align: middle;\n",
              "    }\n",
              "\n",
              "    .dataframe tbody tr th {\n",
              "        vertical-align: top;\n",
              "    }\n",
              "\n",
              "    .dataframe thead th {\n",
              "        text-align: right;\n",
              "    }\n",
              "</style>\n",
              "<table border=\"1\" class=\"dataframe\">\n",
              "  <thead>\n",
              "    <tr style=\"text-align: right;\">\n",
              "      <th></th>\n",
              "      <th>Open</th>\n",
              "      <th>High</th>\n",
              "      <th>Low</th>\n",
              "      <th>Close</th>\n",
              "      <th>Volume</th>\n",
              "      <th>Dividends</th>\n",
              "      <th>Stock Splits</th>\n",
              "    </tr>\n",
              "    <tr>\n",
              "      <th>Datetime</th>\n",
              "      <th></th>\n",
              "      <th></th>\n",
              "      <th></th>\n",
              "      <th></th>\n",
              "      <th></th>\n",
              "      <th></th>\n",
              "      <th></th>\n",
              "    </tr>\n",
              "  </thead>\n",
              "  <tbody>\n",
              "    <tr>\n",
              "      <th>2024-06-28 10:02:00-03:00</th>\n",
              "      <td>34.169998</td>\n",
              "      <td>34.410000</td>\n",
              "      <td>34.169998</td>\n",
              "      <td>34.360001</td>\n",
              "      <td>0</td>\n",
              "      <td>0.0</td>\n",
              "      <td>0.0</td>\n",
              "    </tr>\n",
              "    <tr>\n",
              "      <th>2024-06-28 10:03:00-03:00</th>\n",
              "      <td>34.360001</td>\n",
              "      <td>34.430000</td>\n",
              "      <td>34.340000</td>\n",
              "      <td>34.340000</td>\n",
              "      <td>6000</td>\n",
              "      <td>0.0</td>\n",
              "      <td>0.0</td>\n",
              "    </tr>\n",
              "    <tr>\n",
              "      <th>2024-06-28 10:04:00-03:00</th>\n",
              "      <td>34.340000</td>\n",
              "      <td>34.340000</td>\n",
              "      <td>34.230000</td>\n",
              "      <td>34.270000</td>\n",
              "      <td>2400</td>\n",
              "      <td>0.0</td>\n",
              "      <td>0.0</td>\n",
              "    </tr>\n",
              "    <tr>\n",
              "      <th>2024-06-28 10:05:00-03:00</th>\n",
              "      <td>34.270000</td>\n",
              "      <td>34.310001</td>\n",
              "      <td>34.270000</td>\n",
              "      <td>34.270000</td>\n",
              "      <td>3100</td>\n",
              "      <td>0.0</td>\n",
              "      <td>0.0</td>\n",
              "    </tr>\n",
              "    <tr>\n",
              "      <th>2024-06-28 10:06:00-03:00</th>\n",
              "      <td>34.279999</td>\n",
              "      <td>34.299999</td>\n",
              "      <td>34.270000</td>\n",
              "      <td>34.270000</td>\n",
              "      <td>1900</td>\n",
              "      <td>0.0</td>\n",
              "      <td>0.0</td>\n",
              "    </tr>\n",
              "    <tr>\n",
              "      <th>...</th>\n",
              "      <td>...</td>\n",
              "      <td>...</td>\n",
              "      <td>...</td>\n",
              "      <td>...</td>\n",
              "      <td>...</td>\n",
              "      <td>...</td>\n",
              "      <td>...</td>\n",
              "    </tr>\n",
              "    <tr>\n",
              "      <th>2024-06-28 16:50:00-03:00</th>\n",
              "      <td>34.200001</td>\n",
              "      <td>34.209999</td>\n",
              "      <td>34.200001</td>\n",
              "      <td>34.200001</td>\n",
              "      <td>4200</td>\n",
              "      <td>0.0</td>\n",
              "      <td>0.0</td>\n",
              "    </tr>\n",
              "    <tr>\n",
              "      <th>2024-06-28 16:51:00-03:00</th>\n",
              "      <td>34.200001</td>\n",
              "      <td>34.220001</td>\n",
              "      <td>34.200001</td>\n",
              "      <td>34.200001</td>\n",
              "      <td>4900</td>\n",
              "      <td>0.0</td>\n",
              "      <td>0.0</td>\n",
              "    </tr>\n",
              "    <tr>\n",
              "      <th>2024-06-28 16:52:00-03:00</th>\n",
              "      <td>34.220001</td>\n",
              "      <td>34.220001</td>\n",
              "      <td>34.200001</td>\n",
              "      <td>34.220001</td>\n",
              "      <td>1200</td>\n",
              "      <td>0.0</td>\n",
              "      <td>0.0</td>\n",
              "    </tr>\n",
              "    <tr>\n",
              "      <th>2024-06-28 16:53:00-03:00</th>\n",
              "      <td>34.220001</td>\n",
              "      <td>34.230000</td>\n",
              "      <td>34.209999</td>\n",
              "      <td>34.220001</td>\n",
              "      <td>1800</td>\n",
              "      <td>0.0</td>\n",
              "      <td>0.0</td>\n",
              "    </tr>\n",
              "    <tr>\n",
              "      <th>2024-06-28 16:54:00-03:00</th>\n",
              "      <td>34.200001</td>\n",
              "      <td>34.400002</td>\n",
              "      <td>34.200001</td>\n",
              "      <td>34.310001</td>\n",
              "      <td>41500</td>\n",
              "      <td>0.0</td>\n",
              "      <td>0.0</td>\n",
              "    </tr>\n",
              "  </tbody>\n",
              "</table>\n",
              "<p>413 rows × 7 columns</p>\n",
              "</div>\n",
              "    <div class=\"colab-df-buttons\">\n",
              "\n",
              "  <div class=\"colab-df-container\">\n",
              "    <button class=\"colab-df-convert\" onclick=\"convertToInteractive('df-561a211f-b179-4aaf-9429-06763dd17cbd')\"\n",
              "            title=\"Convert this dataframe to an interactive table.\"\n",
              "            style=\"display:none;\">\n",
              "\n",
              "  <svg xmlns=\"http://www.w3.org/2000/svg\" height=\"24px\" viewBox=\"0 -960 960 960\">\n",
              "    <path d=\"M120-120v-720h720v720H120Zm60-500h600v-160H180v160Zm220 220h160v-160H400v160Zm0 220h160v-160H400v160ZM180-400h160v-160H180v160Zm440 0h160v-160H620v160ZM180-180h160v-160H180v160Zm440 0h160v-160H620v160Z\"/>\n",
              "  </svg>\n",
              "    </button>\n",
              "\n",
              "  <style>\n",
              "    .colab-df-container {\n",
              "      display:flex;\n",
              "      gap: 12px;\n",
              "    }\n",
              "\n",
              "    .colab-df-convert {\n",
              "      background-color: #E8F0FE;\n",
              "      border: none;\n",
              "      border-radius: 50%;\n",
              "      cursor: pointer;\n",
              "      display: none;\n",
              "      fill: #1967D2;\n",
              "      height: 32px;\n",
              "      padding: 0 0 0 0;\n",
              "      width: 32px;\n",
              "    }\n",
              "\n",
              "    .colab-df-convert:hover {\n",
              "      background-color: #E2EBFA;\n",
              "      box-shadow: 0px 1px 2px rgba(60, 64, 67, 0.3), 0px 1px 3px 1px rgba(60, 64, 67, 0.15);\n",
              "      fill: #174EA6;\n",
              "    }\n",
              "\n",
              "    .colab-df-buttons div {\n",
              "      margin-bottom: 4px;\n",
              "    }\n",
              "\n",
              "    [theme=dark] .colab-df-convert {\n",
              "      background-color: #3B4455;\n",
              "      fill: #D2E3FC;\n",
              "    }\n",
              "\n",
              "    [theme=dark] .colab-df-convert:hover {\n",
              "      background-color: #434B5C;\n",
              "      box-shadow: 0px 1px 3px 1px rgba(0, 0, 0, 0.15);\n",
              "      filter: drop-shadow(0px 1px 2px rgba(0, 0, 0, 0.3));\n",
              "      fill: #FFFFFF;\n",
              "    }\n",
              "  </style>\n",
              "\n",
              "    <script>\n",
              "      const buttonEl =\n",
              "        document.querySelector('#df-561a211f-b179-4aaf-9429-06763dd17cbd button.colab-df-convert');\n",
              "      buttonEl.style.display =\n",
              "        google.colab.kernel.accessAllowed ? 'block' : 'none';\n",
              "\n",
              "      async function convertToInteractive(key) {\n",
              "        const element = document.querySelector('#df-561a211f-b179-4aaf-9429-06763dd17cbd');\n",
              "        const dataTable =\n",
              "          await google.colab.kernel.invokeFunction('convertToInteractive',\n",
              "                                                    [key], {});\n",
              "        if (!dataTable) return;\n",
              "\n",
              "        const docLinkHtml = 'Like what you see? Visit the ' +\n",
              "          '<a target=\"_blank\" href=https://colab.research.google.com/notebooks/data_table.ipynb>data table notebook</a>'\n",
              "          + ' to learn more about interactive tables.';\n",
              "        element.innerHTML = '';\n",
              "        dataTable['output_type'] = 'display_data';\n",
              "        await google.colab.output.renderOutput(dataTable, element);\n",
              "        const docLink = document.createElement('div');\n",
              "        docLink.innerHTML = docLinkHtml;\n",
              "        element.appendChild(docLink);\n",
              "      }\n",
              "    </script>\n",
              "  </div>\n",
              "\n",
              "\n",
              "<div id=\"df-0c741272-75f6-4672-bab3-effbd0720ff9\">\n",
              "  <button class=\"colab-df-quickchart\" onclick=\"quickchart('df-0c741272-75f6-4672-bab3-effbd0720ff9')\"\n",
              "            title=\"Suggest charts\"\n",
              "            style=\"display:none;\">\n",
              "\n",
              "<svg xmlns=\"http://www.w3.org/2000/svg\" height=\"24px\"viewBox=\"0 0 24 24\"\n",
              "     width=\"24px\">\n",
              "    <g>\n",
              "        <path d=\"M19 3H5c-1.1 0-2 .9-2 2v14c0 1.1.9 2 2 2h14c1.1 0 2-.9 2-2V5c0-1.1-.9-2-2-2zM9 17H7v-7h2v7zm4 0h-2V7h2v10zm4 0h-2v-4h2v4z\"/>\n",
              "    </g>\n",
              "</svg>\n",
              "  </button>\n",
              "\n",
              "<style>\n",
              "  .colab-df-quickchart {\n",
              "      --bg-color: #E8F0FE;\n",
              "      --fill-color: #1967D2;\n",
              "      --hover-bg-color: #E2EBFA;\n",
              "      --hover-fill-color: #174EA6;\n",
              "      --disabled-fill-color: #AAA;\n",
              "      --disabled-bg-color: #DDD;\n",
              "  }\n",
              "\n",
              "  [theme=dark] .colab-df-quickchart {\n",
              "      --bg-color: #3B4455;\n",
              "      --fill-color: #D2E3FC;\n",
              "      --hover-bg-color: #434B5C;\n",
              "      --hover-fill-color: #FFFFFF;\n",
              "      --disabled-bg-color: #3B4455;\n",
              "      --disabled-fill-color: #666;\n",
              "  }\n",
              "\n",
              "  .colab-df-quickchart {\n",
              "    background-color: var(--bg-color);\n",
              "    border: none;\n",
              "    border-radius: 50%;\n",
              "    cursor: pointer;\n",
              "    display: none;\n",
              "    fill: var(--fill-color);\n",
              "    height: 32px;\n",
              "    padding: 0;\n",
              "    width: 32px;\n",
              "  }\n",
              "\n",
              "  .colab-df-quickchart:hover {\n",
              "    background-color: var(--hover-bg-color);\n",
              "    box-shadow: 0 1px 2px rgba(60, 64, 67, 0.3), 0 1px 3px 1px rgba(60, 64, 67, 0.15);\n",
              "    fill: var(--button-hover-fill-color);\n",
              "  }\n",
              "\n",
              "  .colab-df-quickchart-complete:disabled,\n",
              "  .colab-df-quickchart-complete:disabled:hover {\n",
              "    background-color: var(--disabled-bg-color);\n",
              "    fill: var(--disabled-fill-color);\n",
              "    box-shadow: none;\n",
              "  }\n",
              "\n",
              "  .colab-df-spinner {\n",
              "    border: 2px solid var(--fill-color);\n",
              "    border-color: transparent;\n",
              "    border-bottom-color: var(--fill-color);\n",
              "    animation:\n",
              "      spin 1s steps(1) infinite;\n",
              "  }\n",
              "\n",
              "  @keyframes spin {\n",
              "    0% {\n",
              "      border-color: transparent;\n",
              "      border-bottom-color: var(--fill-color);\n",
              "      border-left-color: var(--fill-color);\n",
              "    }\n",
              "    20% {\n",
              "      border-color: transparent;\n",
              "      border-left-color: var(--fill-color);\n",
              "      border-top-color: var(--fill-color);\n",
              "    }\n",
              "    30% {\n",
              "      border-color: transparent;\n",
              "      border-left-color: var(--fill-color);\n",
              "      border-top-color: var(--fill-color);\n",
              "      border-right-color: var(--fill-color);\n",
              "    }\n",
              "    40% {\n",
              "      border-color: transparent;\n",
              "      border-right-color: var(--fill-color);\n",
              "      border-top-color: var(--fill-color);\n",
              "    }\n",
              "    60% {\n",
              "      border-color: transparent;\n",
              "      border-right-color: var(--fill-color);\n",
              "    }\n",
              "    80% {\n",
              "      border-color: transparent;\n",
              "      border-right-color: var(--fill-color);\n",
              "      border-bottom-color: var(--fill-color);\n",
              "    }\n",
              "    90% {\n",
              "      border-color: transparent;\n",
              "      border-bottom-color: var(--fill-color);\n",
              "    }\n",
              "  }\n",
              "</style>\n",
              "\n",
              "  <script>\n",
              "    async function quickchart(key) {\n",
              "      const quickchartButtonEl =\n",
              "        document.querySelector('#' + key + ' button');\n",
              "      quickchartButtonEl.disabled = true;  // To prevent multiple clicks.\n",
              "      quickchartButtonEl.classList.add('colab-df-spinner');\n",
              "      try {\n",
              "        const charts = await google.colab.kernel.invokeFunction(\n",
              "            'suggestCharts', [key], {});\n",
              "      } catch (error) {\n",
              "        console.error('Error during call to suggestCharts:', error);\n",
              "      }\n",
              "      quickchartButtonEl.classList.remove('colab-df-spinner');\n",
              "      quickchartButtonEl.classList.add('colab-df-quickchart-complete');\n",
              "    }\n",
              "    (() => {\n",
              "      let quickchartButtonEl =\n",
              "        document.querySelector('#df-0c741272-75f6-4672-bab3-effbd0720ff9 button');\n",
              "      quickchartButtonEl.style.display =\n",
              "        google.colab.kernel.accessAllowed ? 'block' : 'none';\n",
              "    })();\n",
              "  </script>\n",
              "</div>\n",
              "\n",
              "  <div id=\"id_552bd4e7-8d50-4a67-854d-08cf3b23aa40\">\n",
              "    <style>\n",
              "      .colab-df-generate {\n",
              "        background-color: #E8F0FE;\n",
              "        border: none;\n",
              "        border-radius: 50%;\n",
              "        cursor: pointer;\n",
              "        display: none;\n",
              "        fill: #1967D2;\n",
              "        height: 32px;\n",
              "        padding: 0 0 0 0;\n",
              "        width: 32px;\n",
              "      }\n",
              "\n",
              "      .colab-df-generate:hover {\n",
              "        background-color: #E2EBFA;\n",
              "        box-shadow: 0px 1px 2px rgba(60, 64, 67, 0.3), 0px 1px 3px 1px rgba(60, 64, 67, 0.15);\n",
              "        fill: #174EA6;\n",
              "      }\n",
              "\n",
              "      [theme=dark] .colab-df-generate {\n",
              "        background-color: #3B4455;\n",
              "        fill: #D2E3FC;\n",
              "      }\n",
              "\n",
              "      [theme=dark] .colab-df-generate:hover {\n",
              "        background-color: #434B5C;\n",
              "        box-shadow: 0px 1px 3px 1px rgba(0, 0, 0, 0.15);\n",
              "        filter: drop-shadow(0px 1px 2px rgba(0, 0, 0, 0.3));\n",
              "        fill: #FFFFFF;\n",
              "      }\n",
              "    </style>\n",
              "    <button class=\"colab-df-generate\" onclick=\"generateWithVariable('tickerDf')\"\n",
              "            title=\"Generate code using this dataframe.\"\n",
              "            style=\"display:none;\">\n",
              "\n",
              "  <svg xmlns=\"http://www.w3.org/2000/svg\" height=\"24px\"viewBox=\"0 0 24 24\"\n",
              "       width=\"24px\">\n",
              "    <path d=\"M7,19H8.4L18.45,9,17,7.55,7,17.6ZM5,21V16.75L18.45,3.32a2,2,0,0,1,2.83,0l1.4,1.43a1.91,1.91,0,0,1,.58,1.4,1.91,1.91,0,0,1-.58,1.4L9.25,21ZM18.45,9,17,7.55Zm-12,3A5.31,5.31,0,0,0,4.9,8.1,5.31,5.31,0,0,0,1,6.5,5.31,5.31,0,0,0,4.9,4.9,5.31,5.31,0,0,0,6.5,1,5.31,5.31,0,0,0,8.1,4.9,5.31,5.31,0,0,0,12,6.5,5.46,5.46,0,0,0,6.5,12Z\"/>\n",
              "  </svg>\n",
              "    </button>\n",
              "    <script>\n",
              "      (() => {\n",
              "      const buttonEl =\n",
              "        document.querySelector('#id_552bd4e7-8d50-4a67-854d-08cf3b23aa40 button.colab-df-generate');\n",
              "      buttonEl.style.display =\n",
              "        google.colab.kernel.accessAllowed ? 'block' : 'none';\n",
              "\n",
              "      buttonEl.onclick = () => {\n",
              "        google.colab.notebook.generateWithVariable('tickerDf');\n",
              "      }\n",
              "      })();\n",
              "    </script>\n",
              "  </div>\n",
              "\n",
              "    </div>\n",
              "  </div>\n"
            ],
            "application/vnd.google.colaboratory.intrinsic+json": {
              "type": "dataframe",
              "variable_name": "tickerDf",
              "summary": "{\n  \"name\": \"tickerDf\",\n  \"rows\": 413,\n  \"fields\": [\n    {\n      \"column\": \"Datetime\",\n      \"properties\": {\n        \"dtype\": \"date\",\n        \"min\": \"2024-06-28 10:02:00-03:00\",\n        \"max\": \"2024-06-28 16:54:00-03:00\",\n        \"num_unique_values\": 413,\n        \"samples\": [\n          \"2024-06-28 16:36:00-03:00\",\n          \"2024-06-28 15:51:00-03:00\",\n          \"2024-06-28 16:42:00-03:00\"\n        ],\n        \"semantic_type\": \"\",\n        \"description\": \"\"\n      }\n    },\n    {\n      \"column\": \"Open\",\n      \"properties\": {\n        \"dtype\": \"number\",\n        \"std\": 0.0492766806983309,\n        \"min\": 34.099998474121094,\n        \"max\": 34.36000061035156,\n        \"num_unique_values\": 25,\n        \"samples\": [\n          34.31999969482422,\n          34.189998626708984,\n          34.16999816894531\n        ],\n        \"semantic_type\": \"\",\n        \"description\": \"\"\n      }\n    },\n    {\n      \"column\": \"High\",\n      \"properties\": {\n        \"dtype\": \"number\",\n        \"std\": 0.05070864388947942,\n        \"min\": 34.119998931884766,\n        \"max\": 34.43000030517578,\n        \"num_unique_values\": 26,\n        \"samples\": [\n          34.27000045776367,\n          34.209999084472656,\n          34.40999984741211\n        ],\n        \"semantic_type\": \"\",\n        \"description\": \"\"\n      }\n    },\n    {\n      \"column\": \"Low\",\n      \"properties\": {\n        \"dtype\": \"number\",\n        \"std\": 0.04720718043829406,\n        \"min\": 34.099998474121094,\n        \"max\": 34.34000015258789,\n        \"num_unique_values\": 24,\n        \"samples\": [\n          34.220001220703125,\n          34.31999969482422,\n          34.16999816894531\n        ],\n        \"semantic_type\": \"\",\n        \"description\": \"\"\n      }\n    },\n    {\n      \"column\": \"Close\",\n      \"properties\": {\n        \"dtype\": \"number\",\n        \"std\": 0.04874124052310981,\n        \"min\": 34.099998474121094,\n        \"max\": 34.36000061035156,\n        \"num_unique_values\": 25,\n        \"samples\": [\n          34.2400016784668,\n          34.31999969482422,\n          34.36000061035156\n        ],\n        \"semantic_type\": \"\",\n        \"description\": \"\"\n      }\n    },\n    {\n      \"column\": \"Volume\",\n      \"properties\": {\n        \"dtype\": \"number\",\n        \"std\": 14054,\n        \"min\": 0,\n        \"max\": 274700,\n        \"num_unique_values\": 79,\n        \"samples\": [\n          3600,\n          0,\n          300\n        ],\n        \"semantic_type\": \"\",\n        \"description\": \"\"\n      }\n    },\n    {\n      \"column\": \"Dividends\",\n      \"properties\": {\n        \"dtype\": \"number\",\n        \"std\": 0.0,\n        \"min\": 0.0,\n        \"max\": 0.0,\n        \"num_unique_values\": 1,\n        \"samples\": [\n          0.0\n        ],\n        \"semantic_type\": \"\",\n        \"description\": \"\"\n      }\n    },\n    {\n      \"column\": \"Stock Splits\",\n      \"properties\": {\n        \"dtype\": \"number\",\n        \"std\": 0.0,\n        \"min\": 0.0,\n        \"max\": 0.0,\n        \"num_unique_values\": 1,\n        \"samples\": [\n          0.0\n        ],\n        \"semantic_type\": \"\",\n        \"description\": \"\"\n      }\n    }\n  ]\n}"
            }
          },
          "metadata": {},
          "execution_count": 179
        }
      ]
    },
    {
      "cell_type": "code",
      "source": [
        "X= tickerDf.drop(['Open'], axis=1)\n",
        "y = tickerDf['Open']\n"
      ],
      "metadata": {
        "id": "_3_O1H--oa2F"
      },
      "execution_count": 180,
      "outputs": []
    },
    {
      "cell_type": "code",
      "source": [
        "x_train, x_test, y_train, y_test = train_test_split(X, y , test_size=0.3, random_state=124)"
      ],
      "metadata": {
        "id": "m3LJjX_tMJsg"
      },
      "execution_count": 181,
      "outputs": []
    },
    {
      "cell_type": "code",
      "source": [
        "x_test.shape"
      ],
      "metadata": {
        "colab": {
          "base_uri": "https://localhost:8080/"
        },
        "id": "yizYKLI-oh67",
        "outputId": "41b1e15f-5c50-4ea8-f5c2-fa7440e35637"
      },
      "execution_count": 182,
      "outputs": [
        {
          "output_type": "execute_result",
          "data": {
            "text/plain": [
              "(124, 6)"
            ]
          },
          "metadata": {},
          "execution_count": 182
        }
      ]
    },
    {
      "cell_type": "code",
      "source": [
        "from keras.models import Sequential\n",
        "from keras.layers import Dense, Dropout\n",
        "#criando arquitetura neural\n",
        "model = Sequential()\n",
        "model.add(Dense(128, input_dim=x_train.shape[1], activation='relu'))\n",
        "model.add(Dense(64, activation='relu'))\n",
        "model.add(Dense(32, activation='relu'))\n",
        "model.add(Dense(1))\n",
        "\n",
        "\n"
      ],
      "metadata": {
        "id": "_j_zF_87olcu"
      },
      "execution_count": 183,
      "outputs": []
    },
    {
      "cell_type": "code",
      "source": [
        "#compilando\n",
        "model.compile(optimizer='adam', loss='mse', metrics=['mae'])\n",
        "resultado= model.fit(x_train, y_train, epochs=200, batch_size=32, validation_data=(x_test, y_test))\n"
      ],
      "metadata": {
        "colab": {
          "base_uri": "https://localhost:8080/"
        },
        "id": "9aBx2wWrqpSL",
        "outputId": "bd1f9b96-7765-4fc6-f83e-ea37dfe17a30"
      },
      "execution_count": 184,
      "outputs": [
        {
          "output_type": "stream",
          "name": "stdout",
          "text": [
            "Epoch 1/200\n",
            "10/10 [==============================] - 1s 27ms/step - loss: 190968.8438 - mae: 125.0625 - val_loss: 477526.8125 - val_mae: 329.0641\n",
            "Epoch 2/200\n",
            "10/10 [==============================] - 0s 8ms/step - loss: 4247839.0000 - mae: 369.8267 - val_loss: 105762.7266 - val_mae: 140.4326\n",
            "Epoch 3/200\n",
            "10/10 [==============================] - 0s 8ms/step - loss: 894496.3125 - mae: 160.4620 - val_loss: 194449.9531 - val_mae: 254.8589\n",
            "Epoch 4/200\n",
            "10/10 [==============================] - 0s 6ms/step - loss: 1481793.3750 - mae: 220.0791 - val_loss: 5031.7642 - val_mae: 58.3175\n",
            "Epoch 5/200\n",
            "10/10 [==============================] - 0s 8ms/step - loss: 67640.9453 - mae: 45.7830 - val_loss: 3550.9038 - val_mae: 25.2053\n",
            "Epoch 6/200\n",
            "10/10 [==============================] - 0s 8ms/step - loss: 20858.9727 - mae: 32.9849 - val_loss: 2310.4458 - val_mae: 40.0900\n",
            "Epoch 7/200\n",
            "10/10 [==============================] - 0s 6ms/step - loss: 5964.6714 - mae: 37.5430 - val_loss: 462.6094 - val_mae: 21.4148\n",
            "Epoch 8/200\n",
            "10/10 [==============================] - 0s 9ms/step - loss: 6357.5039 - mae: 20.1631 - val_loss: 206.9184 - val_mae: 14.1031\n",
            "Epoch 9/200\n",
            "10/10 [==============================] - 0s 8ms/step - loss: 314.4950 - mae: 14.8925 - val_loss: 41.1798 - val_mae: 6.2890\n",
            "Epoch 10/200\n",
            "10/10 [==============================] - 0s 8ms/step - loss: 542.7872 - mae: 12.9038 - val_loss: 1967.4569 - val_mae: 26.7439\n",
            "Epoch 11/200\n",
            "10/10 [==============================] - 0s 6ms/step - loss: 13132.0068 - mae: 20.6703 - val_loss: 4707.4595 - val_mae: 34.2962\n",
            "Epoch 12/200\n",
            "10/10 [==============================] - 0s 8ms/step - loss: 60384.5742 - mae: 39.7840 - val_loss: 1100.6433 - val_mae: 20.6946\n",
            "Epoch 13/200\n",
            "10/10 [==============================] - 0s 8ms/step - loss: 40115.2969 - mae: 36.5730 - val_loss: 344.8614 - val_mae: 13.2254\n",
            "Epoch 14/200\n",
            "10/10 [==============================] - 0s 7ms/step - loss: 616.8091 - mae: 6.9010 - val_loss: 27.8295 - val_mae: 3.5695\n",
            "Epoch 15/200\n",
            "10/10 [==============================] - 0s 8ms/step - loss: 188.0621 - mae: 4.6225 - val_loss: 91.6237 - val_mae: 7.7028\n",
            "Epoch 16/200\n",
            "10/10 [==============================] - 0s 8ms/step - loss: 967.4822 - mae: 9.5896 - val_loss: 16.4741 - val_mae: 3.8166\n",
            "Epoch 17/200\n",
            "10/10 [==============================] - 0s 6ms/step - loss: 1387.0575 - mae: 4.7363 - val_loss: 44.0967 - val_mae: 5.4405\n",
            "Epoch 18/200\n",
            "10/10 [==============================] - 0s 8ms/step - loss: 2003.9215 - mae: 10.4638 - val_loss: 47.2094 - val_mae: 5.2956\n",
            "Epoch 19/200\n",
            "10/10 [==============================] - 0s 8ms/step - loss: 304.5442 - mae: 6.4621 - val_loss: 1470.5409 - val_mae: 18.3281\n",
            "Epoch 20/200\n",
            "10/10 [==============================] - 0s 10ms/step - loss: 15917.6406 - mae: 19.1170 - val_loss: 3515.0422 - val_mae: 33.0837\n",
            "Epoch 21/200\n",
            "10/10 [==============================] - 0s 10ms/step - loss: 24032.1113 - mae: 22.0647 - val_loss: 3252.3506 - val_mae: 28.1371\n",
            "Epoch 22/200\n",
            "10/10 [==============================] - 0s 7ms/step - loss: 55384.0586 - mae: 42.0922 - val_loss: 96.4837 - val_mae: 2.9206\n",
            "Epoch 23/200\n",
            "10/10 [==============================] - 0s 8ms/step - loss: 14115.9180 - mae: 53.6440 - val_loss: 44526.1445 - val_mae: 112.6465\n",
            "Epoch 24/200\n",
            "10/10 [==============================] - 0s 7ms/step - loss: 383415.2812 - mae: 91.1737 - val_loss: 48232.7031 - val_mae: 112.8163\n",
            "Epoch 25/200\n",
            "10/10 [==============================] - 0s 7ms/step - loss: 661482.0000 - mae: 109.6469 - val_loss: 23763.0801 - val_mae: 82.9057\n",
            "Epoch 26/200\n",
            "10/10 [==============================] - 0s 8ms/step - loss: 472044.9688 - mae: 115.7155 - val_loss: 1437.1802 - val_mae: 13.6000\n",
            "Epoch 27/200\n",
            "10/10 [==============================] - 0s 8ms/step - loss: 44411.0039 - mae: 38.2800 - val_loss: 10996.9561 - val_mae: 47.1616\n",
            "Epoch 28/200\n",
            "10/10 [==============================] - 0s 6ms/step - loss: 96444.5312 - mae: 41.8632 - val_loss: 2715.0537 - val_mae: 33.5686\n",
            "Epoch 29/200\n",
            "10/10 [==============================] - 0s 6ms/step - loss: 31671.6328 - mae: 41.6956 - val_loss: 2213.2908 - val_mae: 30.7685\n",
            "Epoch 30/200\n",
            "10/10 [==============================] - 0s 7ms/step - loss: 10276.8994 - mae: 20.5077 - val_loss: 1088.9869 - val_mae: 11.5179\n",
            "Epoch 31/200\n",
            "10/10 [==============================] - 0s 7ms/step - loss: 20371.7344 - mae: 17.9893 - val_loss: 407.5778 - val_mae: 15.2751\n",
            "Epoch 32/200\n",
            "10/10 [==============================] - 0s 7ms/step - loss: 8085.4673 - mae: 21.6391 - val_loss: 79.6167 - val_mae: 6.9183\n",
            "Epoch 33/200\n",
            "10/10 [==============================] - 0s 8ms/step - loss: 830.7100 - mae: 10.7394 - val_loss: 2779.8311 - val_mae: 25.2008\n",
            "Epoch 34/200\n",
            "10/10 [==============================] - 0s 8ms/step - loss: 31675.2109 - mae: 30.7053 - val_loss: 25.9146 - val_mae: 4.6877\n",
            "Epoch 35/200\n",
            "10/10 [==============================] - 0s 7ms/step - loss: 56838.0938 - mae: 40.5898 - val_loss: 733.6865 - val_mae: 17.1234\n",
            "Epoch 36/200\n",
            "10/10 [==============================] - 0s 6ms/step - loss: 10293.8682 - mae: 14.4703 - val_loss: 650.8242 - val_mae: 9.8556\n",
            "Epoch 37/200\n",
            "10/10 [==============================] - 0s 6ms/step - loss: 3814.3167 - mae: 8.6686 - val_loss: 149.9651 - val_mae: 9.1298\n",
            "Epoch 38/200\n",
            "10/10 [==============================] - 0s 6ms/step - loss: 1585.4952 - mae: 12.2847 - val_loss: 308.5299 - val_mae: 11.8028\n",
            "Epoch 39/200\n",
            "10/10 [==============================] - 0s 7ms/step - loss: 1214.9742 - mae: 10.0932 - val_loss: 34.8785 - val_mae: 2.4765\n",
            "Epoch 40/200\n",
            "10/10 [==============================] - 0s 7ms/step - loss: 3743.7759 - mae: 6.8645 - val_loss: 10.3110 - val_mae: 2.7947\n",
            "Epoch 41/200\n",
            "10/10 [==============================] - 0s 6ms/step - loss: 1729.6322 - mae: 9.2491 - val_loss: 51.5696 - val_mae: 5.5025\n",
            "Epoch 42/200\n",
            "10/10 [==============================] - 0s 6ms/step - loss: 67.9463 - mae: 3.5386 - val_loss: 7.4701 - val_mae: 2.3354\n",
            "Epoch 43/200\n",
            "10/10 [==============================] - 0s 7ms/step - loss: 41.9361 - mae: 2.4614 - val_loss: 10.2886 - val_mae: 2.7290\n",
            "Epoch 44/200\n",
            "10/10 [==============================] - 0s 6ms/step - loss: 78.7082 - mae: 3.6218 - val_loss: 18.5737 - val_mae: 3.3633\n",
            "Epoch 45/200\n",
            "10/10 [==============================] - 0s 10ms/step - loss: 74.8346 - mae: 2.4146 - val_loss: 6.8125 - val_mae: 2.1138\n",
            "Epoch 46/200\n",
            "10/10 [==============================] - 0s 12ms/step - loss: 11.4569 - mae: 2.4690 - val_loss: 21.0353 - val_mae: 3.2598\n",
            "Epoch 47/200\n",
            "10/10 [==============================] - 0s 13ms/step - loss: 29.5820 - mae: 2.5728 - val_loss: 3.2897 - val_mae: 1.2783\n",
            "Epoch 48/200\n",
            "10/10 [==============================] - 0s 9ms/step - loss: 30.5552 - mae: 1.6904 - val_loss: 8.6270 - val_mae: 2.0501\n",
            "Epoch 49/200\n",
            "10/10 [==============================] - 0s 9ms/step - loss: 10.2281 - mae: 1.8646 - val_loss: 6.6504 - val_mae: 1.7292\n",
            "Epoch 50/200\n",
            "10/10 [==============================] - 0s 9ms/step - loss: 16.8312 - mae: 1.2957 - val_loss: 5.0064 - val_mae: 1.4281\n",
            "Epoch 51/200\n",
            "10/10 [==============================] - 0s 9ms/step - loss: 6.2707 - mae: 1.4699 - val_loss: 10.9321 - val_mae: 2.0071\n",
            "Epoch 52/200\n",
            "10/10 [==============================] - 0s 10ms/step - loss: 13.1742 - mae: 1.2139 - val_loss: 1.8999 - val_mae: 0.7860\n",
            "Epoch 53/200\n",
            "10/10 [==============================] - 0s 8ms/step - loss: 45.8296 - mae: 1.5965 - val_loss: 16.0558 - val_mae: 2.2557\n",
            "Epoch 54/200\n",
            "10/10 [==============================] - 0s 10ms/step - loss: 14.0747 - mae: 1.5200 - val_loss: 1.5116 - val_mae: 0.8218\n",
            "Epoch 55/200\n",
            "10/10 [==============================] - 0s 9ms/step - loss: 83.9371 - mae: 1.3104 - val_loss: 9.1533 - val_mae: 1.6084\n",
            "Epoch 56/200\n",
            "10/10 [==============================] - 0s 10ms/step - loss: 21.0266 - mae: 1.7577 - val_loss: 19.5640 - val_mae: 2.2175\n",
            "Epoch 57/200\n",
            "10/10 [==============================] - 0s 8ms/step - loss: 61.0289 - mae: 1.7549 - val_loss: 7.7765 - val_mae: 0.9713\n",
            "Epoch 58/200\n",
            "10/10 [==============================] - 0s 8ms/step - loss: 132.2374 - mae: 1.7684 - val_loss: 31.3118 - val_mae: 2.6723\n",
            "Epoch 59/200\n",
            "10/10 [==============================] - 0s 11ms/step - loss: 150.0234 - mae: 2.0951 - val_loss: 25.8085 - val_mae: 1.8775\n",
            "Epoch 60/200\n",
            "10/10 [==============================] - 0s 9ms/step - loss: 47.5712 - mae: 1.7242 - val_loss: 135.3065 - val_mae: 6.9683\n",
            "Epoch 61/200\n",
            "10/10 [==============================] - 0s 9ms/step - loss: 1809.9799 - mae: 10.1107 - val_loss: 1762.2797 - val_mae: 21.3574\n",
            "Epoch 62/200\n",
            "10/10 [==============================] - 0s 8ms/step - loss: 17072.0449 - mae: 21.0471 - val_loss: 4976.3550 - val_mae: 36.7501\n",
            "Epoch 63/200\n",
            "10/10 [==============================] - 0s 10ms/step - loss: 86790.2344 - mae: 45.2527 - val_loss: 6577.1709 - val_mae: 41.7168\n",
            "Epoch 64/200\n",
            "10/10 [==============================] - 0s 9ms/step - loss: 221358.7344 - mae: 63.8678 - val_loss: 12293.7764 - val_mae: 59.8325\n",
            "Epoch 65/200\n",
            "10/10 [==============================] - 0s 10ms/step - loss: 261184.0625 - mae: 73.7424 - val_loss: 8780.7666 - val_mae: 44.9907\n",
            "Epoch 66/200\n",
            "10/10 [==============================] - 0s 10ms/step - loss: 71401.1016 - mae: 33.9466 - val_loss: 22.6981 - val_mae: 4.0941\n",
            "Epoch 67/200\n",
            "10/10 [==============================] - 0s 9ms/step - loss: 1159.1398 - mae: 9.8492 - val_loss: 96.1596 - val_mae: 8.1448\n",
            "Epoch 68/200\n",
            "10/10 [==============================] - 0s 12ms/step - loss: 44.6268 - mae: 5.7568 - val_loss: 20.0016 - val_mae: 4.1600\n",
            "Epoch 69/200\n",
            "10/10 [==============================] - 0s 9ms/step - loss: 126.2058 - mae: 4.9828 - val_loss: 53.9760 - val_mae: 6.2233\n",
            "Epoch 70/200\n",
            "10/10 [==============================] - 0s 12ms/step - loss: 153.6010 - mae: 6.2948 - val_loss: 24.0528 - val_mae: 4.3824\n",
            "Epoch 71/200\n",
            "10/10 [==============================] - 0s 9ms/step - loss: 53.9662 - mae: 3.5084 - val_loss: 11.4133 - val_mae: 2.9827\n",
            "Epoch 72/200\n",
            "10/10 [==============================] - 0s 10ms/step - loss: 63.7337 - mae: 2.9886 - val_loss: 1293.6359 - val_mae: 20.5252\n",
            "Epoch 73/200\n",
            "10/10 [==============================] - 0s 10ms/step - loss: 232947.0938 - mae: 74.7083 - val_loss: 81.6604 - val_mae: 3.7028\n",
            "Epoch 74/200\n",
            "10/10 [==============================] - 0s 9ms/step - loss: 48177.5898 - mae: 35.9181 - val_loss: 3615.1875 - val_mae: 30.0701\n",
            "Epoch 75/200\n",
            "10/10 [==============================] - 0s 10ms/step - loss: 22310.6426 - mae: 24.1485 - val_loss: 3095.8391 - val_mae: 30.4152\n",
            "Epoch 76/200\n",
            "10/10 [==============================] - 0s 11ms/step - loss: 79560.4062 - mae: 49.5765 - val_loss: 150.3205 - val_mae: 5.1815\n",
            "Epoch 77/200\n",
            "10/10 [==============================] - 0s 12ms/step - loss: 103696.0703 - mae: 46.7391 - val_loss: 26.9505 - val_mae: 3.7634\n",
            "Epoch 78/200\n",
            "10/10 [==============================] - 0s 8ms/step - loss: 15715.0000 - mae: 26.3062 - val_loss: 2738.1018 - val_mae: 28.2268\n",
            "Epoch 79/200\n",
            "10/10 [==============================] - 0s 6ms/step - loss: 17304.5430 - mae: 23.3490 - val_loss: 4157.0718 - val_mae: 34.4148\n",
            "Epoch 80/200\n",
            "10/10 [==============================] - 0s 6ms/step - loss: 47265.7383 - mae: 36.7970 - val_loss: 156.3483 - val_mae: 7.8790\n",
            "Epoch 81/200\n",
            "10/10 [==============================] - 0s 10ms/step - loss: 44025.1250 - mae: 32.9584 - val_loss: 6.8713 - val_mae: 1.9065\n",
            "Epoch 82/200\n",
            "10/10 [==============================] - 0s 8ms/step - loss: 14358.9766 - mae: 14.2628 - val_loss: 12.6920 - val_mae: 2.8771\n",
            "Epoch 83/200\n",
            "10/10 [==============================] - 0s 8ms/step - loss: 5468.2495 - mae: 13.3287 - val_loss: 197.9088 - val_mae: 8.5462\n",
            "Epoch 84/200\n",
            "10/10 [==============================] - 0s 8ms/step - loss: 455.4002 - mae: 4.1662 - val_loss: 242.8897 - val_mae: 6.7691\n",
            "Epoch 85/200\n",
            "10/10 [==============================] - 0s 8ms/step - loss: 2705.4343 - mae: 6.9823 - val_loss: 531.5736 - val_mae: 12.9697\n",
            "Epoch 86/200\n",
            "10/10 [==============================] - 0s 7ms/step - loss: 3056.1819 - mae: 7.6229 - val_loss: 183.1000 - val_mae: 5.9876\n",
            "Epoch 87/200\n",
            "10/10 [==============================] - 0s 6ms/step - loss: 4005.0830 - mae: 8.6966 - val_loss: 170.0704 - val_mae: 7.6267\n",
            "Epoch 88/200\n",
            "10/10 [==============================] - 0s 9ms/step - loss: 3928.3357 - mae: 10.0957 - val_loss: 18.4461 - val_mae: 1.3080\n",
            "Epoch 89/200\n",
            "10/10 [==============================] - 0s 12ms/step - loss: 3589.9536 - mae: 8.3105 - val_loss: 22.7174 - val_mae: 1.4797\n",
            "Epoch 90/200\n",
            "10/10 [==============================] - 0s 8ms/step - loss: 4786.8247 - mae: 10.3141 - val_loss: 74.4965 - val_mae: 5.1026\n",
            "Epoch 91/200\n",
            "10/10 [==============================] - 0s 7ms/step - loss: 3537.1821 - mae: 7.3492 - val_loss: 6.8594 - val_mae: 1.0089\n",
            "Epoch 92/200\n",
            "10/10 [==============================] - 0s 6ms/step - loss: 529.4932 - mae: 5.0968 - val_loss: 114.4932 - val_mae: 5.9915\n",
            "Epoch 93/200\n",
            "10/10 [==============================] - 0s 7ms/step - loss: 452.1956 - mae: 4.2586 - val_loss: 30.8670 - val_mae: 2.4210\n",
            "Epoch 94/200\n",
            "10/10 [==============================] - 0s 8ms/step - loss: 2113.8313 - mae: 6.8569 - val_loss: 8.4429 - val_mae: 1.1920\n",
            "Epoch 95/200\n",
            "10/10 [==============================] - 0s 8ms/step - loss: 452.7764 - mae: 8.9568 - val_loss: 1738.5066 - val_mae: 21.6934\n",
            "Epoch 96/200\n",
            "10/10 [==============================] - 0s 8ms/step - loss: 16749.8262 - mae: 23.2943 - val_loss: 288.9168 - val_mae: 9.3233\n",
            "Epoch 97/200\n",
            "10/10 [==============================] - 0s 7ms/step - loss: 50488.6836 - mae: 35.1232 - val_loss: 4.8325 - val_mae: 1.5228\n",
            "Epoch 98/200\n",
            "10/10 [==============================] - 0s 8ms/step - loss: 4033.5112 - mae: 22.6098 - val_loss: 7346.6919 - val_mae: 45.6937\n",
            "Epoch 99/200\n",
            "10/10 [==============================] - 0s 6ms/step - loss: 65622.1484 - mae: 45.9920 - val_loss: 3551.5540 - val_mae: 30.1829\n",
            "Epoch 100/200\n",
            "10/10 [==============================] - 0s 8ms/step - loss: 213483.4531 - mae: 74.2411 - val_loss: 7.2970 - val_mae: 2.1952\n",
            "Epoch 101/200\n",
            "10/10 [==============================] - 0s 9ms/step - loss: 224014.1719 - mae: 69.5628 - val_loss: 15.2314 - val_mae: 3.4805\n",
            "Epoch 102/200\n",
            "10/10 [==============================] - 0s 8ms/step - loss: 102720.8984 - mae: 41.0742 - val_loss: 40.4372 - val_mae: 2.9192\n",
            "Epoch 103/200\n",
            "10/10 [==============================] - 0s 6ms/step - loss: 3307.0522 - mae: 26.1198 - val_loss: 9337.2480 - val_mae: 52.8564\n",
            "Epoch 104/200\n",
            "10/10 [==============================] - 0s 7ms/step - loss: 86847.1250 - mae: 60.0173 - val_loss: 72.4413 - val_mae: 6.0379\n",
            "Epoch 105/200\n",
            "10/10 [==============================] - 0s 9ms/step - loss: 6730.1177 - mae: 26.4438 - val_loss: 8926.2617 - val_mae: 42.8970\n",
            "Epoch 106/200\n",
            "10/10 [==============================] - 0s 8ms/step - loss: 22359.5625 - mae: 30.0273 - val_loss: 11108.3477 - val_mae: 46.3591\n",
            "Epoch 107/200\n",
            "10/10 [==============================] - 0s 9ms/step - loss: 329760.5000 - mae: 77.7427 - val_loss: 12015.3848 - val_mae: 61.9011\n",
            "Epoch 108/200\n",
            "10/10 [==============================] - 0s 8ms/step - loss: 165103.6562 - mae: 67.8716 - val_loss: 99.1544 - val_mae: 8.5617\n",
            "Epoch 109/200\n",
            "10/10 [==============================] - 0s 8ms/step - loss: 530.2383 - mae: 9.1071 - val_loss: 3287.2378 - val_mae: 24.9383\n",
            "Epoch 110/200\n",
            "10/10 [==============================] - 0s 6ms/step - loss: 40033.7734 - mae: 31.8028 - val_loss: 71.3509 - val_mae: 7.7795\n",
            "Epoch 111/200\n",
            "10/10 [==============================] - 0s 8ms/step - loss: 9004.4404 - mae: 27.1293 - val_loss: 2706.5601 - val_mae: 31.7520\n",
            "Epoch 112/200\n",
            "10/10 [==============================] - 0s 11ms/step - loss: 15621.1094 - mae: 18.1388 - val_loss: 2611.7639 - val_mae: 21.0546\n",
            "Epoch 113/200\n",
            "10/10 [==============================] - 0s 10ms/step - loss: 43568.5000 - mae: 30.3509 - val_loss: 342.5957 - val_mae: 13.2034\n",
            "Epoch 114/200\n",
            "10/10 [==============================] - 0s 7ms/step - loss: 46609.2656 - mae: 36.4176 - val_loss: 43.5424 - val_mae: 5.4785\n",
            "Epoch 115/200\n",
            "10/10 [==============================] - 0s 7ms/step - loss: 25152.3555 - mae: 18.9397 - val_loss: 145.9329 - val_mae: 3.5563\n",
            "Epoch 116/200\n",
            "10/10 [==============================] - 0s 8ms/step - loss: 3455.7507 - mae: 20.2586 - val_loss: 6769.7524 - val_mae: 43.8075\n",
            "Epoch 117/200\n",
            "10/10 [==============================] - 0s 7ms/step - loss: 53909.6406 - mae: 36.5803 - val_loss: 2805.6255 - val_mae: 22.4433\n",
            "Epoch 118/200\n",
            "10/10 [==============================] - 0s 9ms/step - loss: 123345.3984 - mae: 52.5895 - val_loss: 2215.1646 - val_mae: 18.0301\n",
            "Epoch 119/200\n",
            "10/10 [==============================] - 0s 6ms/step - loss: 3444.3723 - mae: 29.1430 - val_loss: 18004.4746 - val_mae: 72.3005\n",
            "Epoch 120/200\n",
            "10/10 [==============================] - 0s 8ms/step - loss: 121727.4766 - mae: 45.1140 - val_loss: 2605.2478 - val_mae: 22.2041\n",
            "Epoch 121/200\n",
            "10/10 [==============================] - 0s 7ms/step - loss: 66966.0781 - mae: 36.5561 - val_loss: 35.9415 - val_mae: 4.7459\n",
            "Epoch 122/200\n",
            "10/10 [==============================] - 0s 7ms/step - loss: 3874.7864 - mae: 20.3829 - val_loss: 2905.5012 - val_mae: 30.3730\n",
            "Epoch 123/200\n",
            "10/10 [==============================] - 0s 7ms/step - loss: 19370.6855 - mae: 22.5525 - val_loss: 175.3744 - val_mae: 3.9009\n",
            "Epoch 124/200\n",
            "10/10 [==============================] - 0s 8ms/step - loss: 13147.7930 - mae: 14.3870 - val_loss: 68.3253 - val_mae: 2.9153\n",
            "Epoch 125/200\n",
            "10/10 [==============================] - 0s 9ms/step - loss: 921.8093 - mae: 8.0219 - val_loss: 329.3100 - val_mae: 10.9912\n",
            "Epoch 126/200\n",
            "10/10 [==============================] - 0s 9ms/step - loss: 1265.1245 - mae: 9.7465 - val_loss: 29.7662 - val_mae: 4.0410\n",
            "Epoch 127/200\n",
            "10/10 [==============================] - 0s 6ms/step - loss: 1044.8390 - mae: 4.2123 - val_loss: 14.1682 - val_mae: 2.4440\n",
            "Epoch 128/200\n",
            "10/10 [==============================] - 0s 6ms/step - loss: 44.4501 - mae: 3.6282 - val_loss: 69.0679 - val_mae: 5.3650\n",
            "Epoch 129/200\n",
            "10/10 [==============================] - 0s 7ms/step - loss: 131.7915 - mae: 4.7900 - val_loss: 25.0588 - val_mae: 3.5310\n",
            "Epoch 130/200\n",
            "10/10 [==============================] - 0s 7ms/step - loss: 48.5617 - mae: 3.0613 - val_loss: 18.6901 - val_mae: 3.0414\n",
            "Epoch 131/200\n",
            "10/10 [==============================] - 0s 7ms/step - loss: 31.0160 - mae: 3.0853 - val_loss: 32.2049 - val_mae: 3.6945\n",
            "Epoch 132/200\n",
            "10/10 [==============================] - 0s 8ms/step - loss: 26.9852 - mae: 3.0679 - val_loss: 19.9438 - val_mae: 2.9710\n",
            "Epoch 133/200\n",
            "10/10 [==============================] - 0s 6ms/step - loss: 24.2540 - mae: 2.5707 - val_loss: 17.6599 - val_mae: 2.7642\n",
            "Epoch 134/200\n",
            "10/10 [==============================] - 0s 6ms/step - loss: 15.6320 - mae: 2.4642 - val_loss: 19.0314 - val_mae: 2.8011\n",
            "Epoch 135/200\n",
            "10/10 [==============================] - 0s 7ms/step - loss: 15.6039 - mae: 2.3976 - val_loss: 16.0154 - val_mae: 2.5568\n",
            "Epoch 136/200\n",
            "10/10 [==============================] - 0s 7ms/step - loss: 13.9338 - mae: 2.2850 - val_loss: 16.9254 - val_mae: 2.5719\n",
            "Epoch 137/200\n",
            "10/10 [==============================] - 0s 9ms/step - loss: 13.2772 - mae: 2.2069 - val_loss: 14.3760 - val_mae: 2.3563\n",
            "Epoch 138/200\n",
            "10/10 [==============================] - 0s 7ms/step - loss: 15.0455 - mae: 2.1176 - val_loss: 13.9356 - val_mae: 2.3072\n",
            "Epoch 139/200\n",
            "10/10 [==============================] - 0s 8ms/step - loss: 12.3604 - mae: 2.0932 - val_loss: 14.9387 - val_mae: 2.3419\n",
            "Epoch 140/200\n",
            "10/10 [==============================] - 0s 6ms/step - loss: 12.2178 - mae: 2.0326 - val_loss: 13.3945 - val_mae: 2.1944\n",
            "Epoch 141/200\n",
            "10/10 [==============================] - 0s 7ms/step - loss: 11.9132 - mae: 2.0024 - val_loss: 13.8882 - val_mae: 2.1873\n",
            "Epoch 142/200\n",
            "10/10 [==============================] - 0s 6ms/step - loss: 10.8639 - mae: 1.8946 - val_loss: 11.8356 - val_mae: 1.9925\n",
            "Epoch 143/200\n",
            "10/10 [==============================] - 0s 6ms/step - loss: 10.9197 - mae: 1.8456 - val_loss: 11.8858 - val_mae: 1.9730\n",
            "Epoch 144/200\n",
            "10/10 [==============================] - 0s 8ms/step - loss: 11.9581 - mae: 1.7808 - val_loss: 10.9116 - val_mae: 1.8909\n",
            "Epoch 145/200\n",
            "10/10 [==============================] - 0s 7ms/step - loss: 9.9684 - mae: 1.7668 - val_loss: 13.6524 - val_mae: 2.0830\n",
            "Epoch 146/200\n",
            "10/10 [==============================] - 0s 7ms/step - loss: 9.7908 - mae: 1.7436 - val_loss: 9.4928 - val_mae: 1.7465\n",
            "Epoch 147/200\n",
            "10/10 [==============================] - 0s 8ms/step - loss: 13.2338 - mae: 1.6417 - val_loss: 11.8727 - val_mae: 1.9283\n",
            "Epoch 148/200\n",
            "10/10 [==============================] - 0s 7ms/step - loss: 10.3391 - mae: 1.7559 - val_loss: 10.4430 - val_mae: 1.7904\n",
            "Epoch 149/200\n",
            "10/10 [==============================] - 0s 8ms/step - loss: 13.5511 - mae: 1.5966 - val_loss: 10.2442 - val_mae: 1.7436\n",
            "Epoch 150/200\n",
            "10/10 [==============================] - 0s 9ms/step - loss: 8.7115 - mae: 1.5912 - val_loss: 11.2113 - val_mae: 1.8295\n",
            "Epoch 151/200\n",
            "10/10 [==============================] - 0s 8ms/step - loss: 8.0944 - mae: 1.5165 - val_loss: 8.2698 - val_mae: 1.5538\n",
            "Epoch 152/200\n",
            "10/10 [==============================] - 0s 7ms/step - loss: 9.4446 - mae: 1.5366 - val_loss: 10.4336 - val_mae: 1.7177\n",
            "Epoch 153/200\n",
            "10/10 [==============================] - 0s 7ms/step - loss: 7.8558 - mae: 1.4561 - val_loss: 9.2253 - val_mae: 1.5576\n",
            "Epoch 154/200\n",
            "10/10 [==============================] - 0s 8ms/step - loss: 8.0837 - mae: 1.3858 - val_loss: 9.5581 - val_mae: 1.5449\n",
            "Epoch 155/200\n",
            "10/10 [==============================] - 0s 6ms/step - loss: 7.6209 - mae: 1.3504 - val_loss: 9.3147 - val_mae: 1.5153\n",
            "Epoch 156/200\n",
            "10/10 [==============================] - 0s 7ms/step - loss: 7.7392 - mae: 1.3332 - val_loss: 8.9896 - val_mae: 1.4840\n",
            "Epoch 157/200\n",
            "10/10 [==============================] - 0s 7ms/step - loss: 7.0429 - mae: 1.3001 - val_loss: 8.9327 - val_mae: 1.4503\n",
            "Epoch 158/200\n",
            "10/10 [==============================] - 0s 6ms/step - loss: 6.9433 - mae: 1.2417 - val_loss: 8.5440 - val_mae: 1.3810\n",
            "Epoch 159/200\n",
            "10/10 [==============================] - 0s 6ms/step - loss: 6.5930 - mae: 1.2189 - val_loss: 8.2985 - val_mae: 1.3494\n",
            "Epoch 160/200\n",
            "10/10 [==============================] - 0s 6ms/step - loss: 6.1193 - mae: 1.1763 - val_loss: 8.0529 - val_mae: 1.3383\n",
            "Epoch 161/200\n",
            "10/10 [==============================] - 0s 6ms/step - loss: 5.8477 - mae: 1.1328 - val_loss: 7.4843 - val_mae: 1.2244\n",
            "Epoch 162/200\n",
            "10/10 [==============================] - 0s 7ms/step - loss: 5.9035 - mae: 1.0493 - val_loss: 7.4749 - val_mae: 1.2020\n",
            "Epoch 163/200\n",
            "10/10 [==============================] - 0s 8ms/step - loss: 5.1416 - mae: 1.0153 - val_loss: 6.9873 - val_mae: 1.1631\n",
            "Epoch 164/200\n",
            "10/10 [==============================] - 0s 8ms/step - loss: 4.8742 - mae: 0.9770 - val_loss: 6.3636 - val_mae: 1.0959\n",
            "Epoch 165/200\n",
            "10/10 [==============================] - 0s 9ms/step - loss: 4.8706 - mae: 0.9367 - val_loss: 6.7651 - val_mae: 1.1045\n",
            "Epoch 166/200\n",
            "10/10 [==============================] - 0s 8ms/step - loss: 4.5339 - mae: 0.8960 - val_loss: 6.1901 - val_mae: 0.9992\n",
            "Epoch 167/200\n",
            "10/10 [==============================] - 0s 8ms/step - loss: 4.3603 - mae: 0.8245 - val_loss: 6.0575 - val_mae: 0.9601\n",
            "Epoch 168/200\n",
            "10/10 [==============================] - 0s 6ms/step - loss: 4.0782 - mae: 0.7814 - val_loss: 5.8431 - val_mae: 0.9180\n",
            "Epoch 169/200\n",
            "10/10 [==============================] - 0s 8ms/step - loss: 3.8499 - mae: 0.7451 - val_loss: 5.4148 - val_mae: 0.8665\n",
            "Epoch 170/200\n",
            "10/10 [==============================] - 0s 8ms/step - loss: 3.9569 - mae: 0.7103 - val_loss: 5.5537 - val_mae: 0.8575\n",
            "Epoch 171/200\n",
            "10/10 [==============================] - 0s 7ms/step - loss: 3.7900 - mae: 0.7005 - val_loss: 4.4078 - val_mae: 0.7650\n",
            "Epoch 172/200\n",
            "10/10 [==============================] - 0s 7ms/step - loss: 9.0786 - mae: 0.7624 - val_loss: 3.7678 - val_mae: 0.6799\n",
            "Epoch 173/200\n",
            "10/10 [==============================] - 0s 8ms/step - loss: 2.6647 - mae: 0.5358 - val_loss: 2.5333 - val_mae: 0.5455\n",
            "Epoch 174/200\n",
            "10/10 [==============================] - 0s 6ms/step - loss: 1.4859 - mae: 0.4273 - val_loss: 1.7859 - val_mae: 0.4633\n",
            "Epoch 175/200\n",
            "10/10 [==============================] - 0s 7ms/step - loss: 1.2892 - mae: 0.3770 - val_loss: 1.7408 - val_mae: 0.4444\n",
            "Epoch 176/200\n",
            "10/10 [==============================] - 0s 8ms/step - loss: 1.0443 - mae: 0.3551 - val_loss: 0.9773 - val_mae: 0.3802\n",
            "Epoch 177/200\n",
            "10/10 [==============================] - 0s 7ms/step - loss: 1.6029 - mae: 0.3514 - val_loss: 0.7558 - val_mae: 0.3337\n",
            "Epoch 178/200\n",
            "10/10 [==============================] - 0s 7ms/step - loss: 0.6508 - mae: 0.3224 - val_loss: 1.6666 - val_mae: 0.4816\n",
            "Epoch 179/200\n",
            "10/10 [==============================] - 0s 6ms/step - loss: 2.3618 - mae: 0.4006 - val_loss: 0.2430 - val_mae: 0.3906\n",
            "Epoch 180/200\n",
            "10/10 [==============================] - 0s 7ms/step - loss: 1.4260 - mae: 0.3390 - val_loss: 0.2036 - val_mae: 0.2420\n",
            "Epoch 181/200\n",
            "10/10 [==============================] - 0s 6ms/step - loss: 0.1877 - mae: 0.2116 - val_loss: 0.2558 - val_mae: 0.2652\n",
            "Epoch 182/200\n",
            "10/10 [==============================] - 0s 7ms/step - loss: 0.2160 - mae: 0.2351 - val_loss: 0.1745 - val_mae: 0.2084\n",
            "Epoch 183/200\n",
            "10/10 [==============================] - 0s 7ms/step - loss: 0.3279 - mae: 0.2118 - val_loss: 0.1166 - val_mae: 0.2133\n",
            "Epoch 184/200\n",
            "10/10 [==============================] - 0s 9ms/step - loss: 0.1581 - mae: 0.1941 - val_loss: 0.1458 - val_mae: 0.2031\n",
            "Epoch 185/200\n",
            "10/10 [==============================] - 0s 8ms/step - loss: 0.0896 - mae: 0.1771 - val_loss: 0.0824 - val_mae: 0.1858\n",
            "Epoch 186/200\n",
            "10/10 [==============================] - 0s 8ms/step - loss: 0.1018 - mae: 0.1723 - val_loss: 0.0774 - val_mae: 0.1699\n",
            "Epoch 187/200\n",
            "10/10 [==============================] - 0s 9ms/step - loss: 0.0712 - mae: 0.1571 - val_loss: 0.0596 - val_mae: 0.1594\n",
            "Epoch 188/200\n",
            "10/10 [==============================] - 0s 9ms/step - loss: 0.0450 - mae: 0.1452 - val_loss: 0.0432 - val_mae: 0.1495\n",
            "Epoch 189/200\n",
            "10/10 [==============================] - 0s 8ms/step - loss: 0.0706 - mae: 0.1481 - val_loss: 0.0475 - val_mae: 0.1470\n",
            "Epoch 190/200\n",
            "10/10 [==============================] - 0s 9ms/step - loss: 0.0485 - mae: 0.1433 - val_loss: 0.0508 - val_mae: 0.1526\n",
            "Epoch 191/200\n",
            "10/10 [==============================] - 0s 6ms/step - loss: 0.0405 - mae: 0.1414 - val_loss: 0.0410 - val_mae: 0.1521\n",
            "Epoch 192/200\n",
            "10/10 [==============================] - 0s 7ms/step - loss: 0.0452 - mae: 0.1453 - val_loss: 0.0518 - val_mae: 0.1521\n",
            "Epoch 193/200\n",
            "10/10 [==============================] - 0s 8ms/step - loss: 0.0450 - mae: 0.1433 - val_loss: 0.0348 - val_mae: 0.1440\n",
            "Epoch 194/200\n",
            "10/10 [==============================] - 0s 6ms/step - loss: 0.1102 - mae: 0.1504 - val_loss: 0.0933 - val_mae: 0.1801\n",
            "Epoch 195/200\n",
            "10/10 [==============================] - 0s 6ms/step - loss: 0.3878 - mae: 0.2000 - val_loss: 0.0604 - val_mae: 0.1674\n",
            "Epoch 196/200\n",
            "10/10 [==============================] - 0s 8ms/step - loss: 0.4593 - mae: 0.1904 - val_loss: 0.0631 - val_mae: 0.1571\n",
            "Epoch 197/200\n",
            "10/10 [==============================] - 0s 6ms/step - loss: 0.0683 - mae: 0.1479 - val_loss: 0.0665 - val_mae: 0.1549\n",
            "Epoch 198/200\n",
            "10/10 [==============================] - 0s 6ms/step - loss: 0.0641 - mae: 0.1443 - val_loss: 0.0371 - val_mae: 0.1437\n",
            "Epoch 199/200\n",
            "10/10 [==============================] - 0s 6ms/step - loss: 0.0308 - mae: 0.1290 - val_loss: 0.0270 - val_mae: 0.1253\n",
            "Epoch 200/200\n",
            "10/10 [==============================] - 0s 8ms/step - loss: 0.2131 - mae: 0.1663 - val_loss: 0.2167 - val_mae: 0.2817\n"
          ]
        }
      ]
    },
    {
      "cell_type": "code",
      "source": [
        "import matplotlib.pyplot as plt\n",
        "\n",
        "plt.plot(resultado.history['loss'])\n",
        "plt.plot(resultado.history['val_loss'])\n",
        "plt.title('model loss')\n",
        "plt.ylabel('fução de custo')\n",
        "plt.xlabel('epoca de treinamento')\n",
        "plt.legend(['erro train', 'erro test'])\n",
        "plt.show"
      ],
      "metadata": {
        "colab": {
          "base_uri": "https://localhost:8080/",
          "height": 642
        },
        "id": "9S2xDQXHsKFM",
        "outputId": "e023ed10-aa79-4d2b-8352-3abb99ee1a0d"
      },
      "execution_count": 185,
      "outputs": [
        {
          "output_type": "execute_result",
          "data": {
            "text/plain": [
              "<function matplotlib.pyplot.show(close=None, block=None)>"
            ],
            "text/html": [
              "<div style=\"max-width:800px; border: 1px solid var(--colab-border-color);\"><style>\n",
              "      pre.function-repr-contents {\n",
              "        overflow-x: auto;\n",
              "        padding: 8px 12px;\n",
              "        max-height: 500px;\n",
              "      }\n",
              "\n",
              "      pre.function-repr-contents.function-repr-contents-collapsed {\n",
              "        cursor: pointer;\n",
              "        max-height: 100px;\n",
              "      }\n",
              "    </style>\n",
              "    <pre style=\"white-space: initial; background:\n",
              "         var(--colab-secondary-surface-color); padding: 8px 12px;\n",
              "         border-bottom: 1px solid var(--colab-border-color);\"><b>matplotlib.pyplot.show</b><br/>def show(*args, **kwargs)</pre><pre class=\"function-repr-contents function-repr-contents-collapsed\" style=\"\"><a class=\"filepath\" style=\"display:none\" href=\"#\">/usr/local/lib/python3.10/dist-packages/matplotlib/pyplot.py</a>Display all open figures.\n",
              "\n",
              "Parameters\n",
              "----------\n",
              "block : bool, optional\n",
              "    Whether to wait for all figures to be closed before returning.\n",
              "\n",
              "    If `True` block and run the GUI main loop until all figure windows\n",
              "    are closed.\n",
              "\n",
              "    If `False` ensure that all figure windows are displayed and return\n",
              "    immediately.  In this case, you are responsible for ensuring\n",
              "    that the event loop is running to have responsive figures.\n",
              "\n",
              "    Defaults to True in non-interactive mode and to False in interactive\n",
              "    mode (see `.pyplot.isinteractive`).\n",
              "\n",
              "See Also\n",
              "--------\n",
              "ion : Enable interactive mode, which shows / updates the figure after\n",
              "      every plotting command, so that calling ``show()`` is not necessary.\n",
              "ioff : Disable interactive mode.\n",
              "savefig : Save the figure to an image file instead of showing it on screen.\n",
              "\n",
              "Notes\n",
              "-----\n",
              "**Saving figures to file and showing a window at the same time**\n",
              "\n",
              "If you want an image file as well as a user interface window, use\n",
              "`.pyplot.savefig` before `.pyplot.show`. At the end of (a blocking)\n",
              "``show()`` the figure is closed and thus unregistered from pyplot. Calling\n",
              "`.pyplot.savefig` afterwards would save a new and thus empty figure. This\n",
              "limitation of command order does not apply if the show is non-blocking or\n",
              "if you keep a reference to the figure and use `.Figure.savefig`.\n",
              "\n",
              "**Auto-show in jupyter notebooks**\n",
              "\n",
              "The jupyter backends (activated via ``%matplotlib inline``,\n",
              "``%matplotlib notebook``, or ``%matplotlib widget``), call ``show()`` at\n",
              "the end of every cell by default. Thus, you usually don&#x27;t have to call it\n",
              "explicitly there.</pre>\n",
              "      <script>\n",
              "      if (google.colab.kernel.accessAllowed && google.colab.files && google.colab.files.view) {\n",
              "        for (const element of document.querySelectorAll('.filepath')) {\n",
              "          element.style.display = 'block'\n",
              "          element.onclick = (event) => {\n",
              "            event.preventDefault();\n",
              "            event.stopPropagation();\n",
              "            google.colab.files.view(element.textContent, 401);\n",
              "          };\n",
              "        }\n",
              "      }\n",
              "      for (const element of document.querySelectorAll('.function-repr-contents')) {\n",
              "        element.onclick = (event) => {\n",
              "          event.preventDefault();\n",
              "          event.stopPropagation();\n",
              "          element.classList.toggle('function-repr-contents-collapsed');\n",
              "        };\n",
              "      }\n",
              "      </script>\n",
              "      </div>"
            ]
          },
          "metadata": {},
          "execution_count": 185
        },
        {
          "output_type": "display_data",
          "data": {
            "text/plain": [
              "<Figure size 640x480 with 1 Axes>"
            ],
            "image/png": "[encoded data removed]"
          },
          "metadata": {}
        }
      ]
    },
    {
      "cell_type": "code",
      "source": [
        "predictions = model.predict(x_test)\n",
        "print(predictions[:5])"
      ],
      "metadata": {
        "colab": {
          "base_uri": "https://localhost:8080/"
        },
        "id": "LtnqQyENXGVH",
        "outputId": "d98f17de-4916-4ea8-950b-a25530b958d8"
      },
      "execution_count": 186,
      "outputs": [
        {
          "output_type": "stream",
          "name": "stdout",
          "text": [
            "4/4 [==============================] - 0s 3ms/step\n",
            "[[33.95743 ]\n",
            " [33.98705 ]\n",
            " [32.939014]\n",
            " [32.26482 ]\n",
            " [34.14746 ]]\n"
          ]
        }
      ]
    },
    {
      "cell_type": "code",
      "source": [
        "mse_nn = mean_squared_error(y_test,predictions)"
      ],
      "metadata": {
        "id": "w8-ntnLyj6iW"
      },
      "execution_count": 187,
      "outputs": []
    },
    {
      "cell_type": "code",
      "source": [
        "compare_mse(mse_lin_reg, mse_nn)"
      ],
      "metadata": {
        "colab": {
          "base_uri": "https://localhost:8080/"
        },
        "id": "N4vbR34ald9m",
        "outputId": "1cc899b9-d5a9-4c9a-e057-93e6dfc0eaed"
      },
      "execution_count": 190,
      "outputs": [
        {
          "output_type": "stream",
          "name": "stdout",
          "text": [
            "MSE Regressão Linear: 0.12944256118356545\n",
            "MSE Rede Neural: 0.21666742577895826\n",
            "A Regressão Linear tem um desempenho melhor com base no MSE.\n"
          ]
        }
      ]
    }
  ]
}